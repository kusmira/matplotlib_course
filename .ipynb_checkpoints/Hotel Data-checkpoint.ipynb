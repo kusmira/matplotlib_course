{
 "cells": [
  {
   "cell_type": "code",
   "execution_count": 20,
   "id": "e460dd74",
   "metadata": {},
   "outputs": [],
   "source": [
    "import pandas as pd\n",
    "import matplotlib.pyplot as plt\n",
    "hotels = pd.read_excel(\"HotelCustomersDataset.xlsx\").drop([\"NameHash\", \"DocIDHash\"], axis=1)"
   ]
  },
  {
   "cell_type": "code",
   "execution_count": 22,
   "id": "a5c169a9",
   "metadata": {},
   "outputs": [],
   "source": [
    "hotels = pd.read_excel(\"HotelCustomersDataset.xlsx\").drop([\"NameHash\", \"DocIDHash\"], axis=1)"
   ]
  },
  {
   "cell_type": "code",
   "execution_count": 23,
   "id": "825e7c9e",
   "metadata": {},
   "outputs": [
    {
     "data": {
      "text/html": [
       "<div>\n",
       "<style scoped>\n",
       "    .dataframe tbody tr th:only-of-type {\n",
       "        vertical-align: middle;\n",
       "    }\n",
       "\n",
       "    .dataframe tbody tr th {\n",
       "        vertical-align: top;\n",
       "    }\n",
       "\n",
       "    .dataframe thead th {\n",
       "        text-align: right;\n",
       "    }\n",
       "</style>\n",
       "<table border=\"1\" class=\"dataframe\">\n",
       "  <thead>\n",
       "    <tr style=\"text-align: right;\">\n",
       "      <th></th>\n",
       "      <th>ID</th>\n",
       "      <th>Nationality</th>\n",
       "      <th>Age</th>\n",
       "      <th>DaysSinceCreation</th>\n",
       "      <th>AverageLeadTime</th>\n",
       "      <th>LodgingRevenue</th>\n",
       "      <th>OtherRevenue</th>\n",
       "      <th>BookingsCanceled</th>\n",
       "      <th>BookingsNoShowed</th>\n",
       "      <th>BookingsCheckedIn</th>\n",
       "      <th>...</th>\n",
       "      <th>SRMediumFloor</th>\n",
       "      <th>SRBathtub</th>\n",
       "      <th>SRShower</th>\n",
       "      <th>SRCrib</th>\n",
       "      <th>SRKingSizeBed</th>\n",
       "      <th>SRTwinBed</th>\n",
       "      <th>SRNearElevator</th>\n",
       "      <th>SRAwayFromElevator</th>\n",
       "      <th>SRNoAlcoholInMiniBar</th>\n",
       "      <th>SRQuietRoom</th>\n",
       "    </tr>\n",
       "  </thead>\n",
       "  <tbody>\n",
       "    <tr>\n",
       "      <th>0</th>\n",
       "      <td>1</td>\n",
       "      <td>PRT</td>\n",
       "      <td>51.0</td>\n",
       "      <td>150</td>\n",
       "      <td>45</td>\n",
       "      <td>371.0</td>\n",
       "      <td>105.3</td>\n",
       "      <td>1</td>\n",
       "      <td>0</td>\n",
       "      <td>3</td>\n",
       "      <td>...</td>\n",
       "      <td>0</td>\n",
       "      <td>0</td>\n",
       "      <td>0</td>\n",
       "      <td>0</td>\n",
       "      <td>0</td>\n",
       "      <td>0</td>\n",
       "      <td>0</td>\n",
       "      <td>0</td>\n",
       "      <td>0</td>\n",
       "      <td>0</td>\n",
       "    </tr>\n",
       "    <tr>\n",
       "      <th>1</th>\n",
       "      <td>2</td>\n",
       "      <td>PRT</td>\n",
       "      <td>NaN</td>\n",
       "      <td>1095</td>\n",
       "      <td>61</td>\n",
       "      <td>280.0</td>\n",
       "      <td>53.0</td>\n",
       "      <td>0</td>\n",
       "      <td>0</td>\n",
       "      <td>1</td>\n",
       "      <td>...</td>\n",
       "      <td>0</td>\n",
       "      <td>0</td>\n",
       "      <td>0</td>\n",
       "      <td>0</td>\n",
       "      <td>0</td>\n",
       "      <td>0</td>\n",
       "      <td>0</td>\n",
       "      <td>0</td>\n",
       "      <td>0</td>\n",
       "      <td>0</td>\n",
       "    </tr>\n",
       "    <tr>\n",
       "      <th>2</th>\n",
       "      <td>3</td>\n",
       "      <td>DEU</td>\n",
       "      <td>31.0</td>\n",
       "      <td>1095</td>\n",
       "      <td>0</td>\n",
       "      <td>0.0</td>\n",
       "      <td>0.0</td>\n",
       "      <td>0</td>\n",
       "      <td>0</td>\n",
       "      <td>0</td>\n",
       "      <td>...</td>\n",
       "      <td>0</td>\n",
       "      <td>0</td>\n",
       "      <td>0</td>\n",
       "      <td>0</td>\n",
       "      <td>0</td>\n",
       "      <td>0</td>\n",
       "      <td>0</td>\n",
       "      <td>0</td>\n",
       "      <td>0</td>\n",
       "      <td>0</td>\n",
       "    </tr>\n",
       "    <tr>\n",
       "      <th>3</th>\n",
       "      <td>4</td>\n",
       "      <td>FRA</td>\n",
       "      <td>60.0</td>\n",
       "      <td>1095</td>\n",
       "      <td>93</td>\n",
       "      <td>240.0</td>\n",
       "      <td>60.0</td>\n",
       "      <td>0</td>\n",
       "      <td>0</td>\n",
       "      <td>1</td>\n",
       "      <td>...</td>\n",
       "      <td>0</td>\n",
       "      <td>0</td>\n",
       "      <td>0</td>\n",
       "      <td>0</td>\n",
       "      <td>0</td>\n",
       "      <td>0</td>\n",
       "      <td>0</td>\n",
       "      <td>0</td>\n",
       "      <td>0</td>\n",
       "      <td>0</td>\n",
       "    </tr>\n",
       "    <tr>\n",
       "      <th>4</th>\n",
       "      <td>5</td>\n",
       "      <td>FRA</td>\n",
       "      <td>51.0</td>\n",
       "      <td>1095</td>\n",
       "      <td>0</td>\n",
       "      <td>0.0</td>\n",
       "      <td>0.0</td>\n",
       "      <td>0</td>\n",
       "      <td>0</td>\n",
       "      <td>0</td>\n",
       "      <td>...</td>\n",
       "      <td>0</td>\n",
       "      <td>0</td>\n",
       "      <td>0</td>\n",
       "      <td>0</td>\n",
       "      <td>0</td>\n",
       "      <td>0</td>\n",
       "      <td>0</td>\n",
       "      <td>0</td>\n",
       "      <td>0</td>\n",
       "      <td>0</td>\n",
       "    </tr>\n",
       "  </tbody>\n",
       "</table>\n",
       "<p>5 rows × 29 columns</p>\n",
       "</div>"
      ],
      "text/plain": [
       "   ID Nationality   Age  DaysSinceCreation  AverageLeadTime  LodgingRevenue  \\\n",
       "0   1         PRT  51.0                150               45           371.0   \n",
       "1   2         PRT   NaN               1095               61           280.0   \n",
       "2   3         DEU  31.0               1095                0             0.0   \n",
       "3   4         FRA  60.0               1095               93           240.0   \n",
       "4   5         FRA  51.0               1095                0             0.0   \n",
       "\n",
       "   OtherRevenue  BookingsCanceled  BookingsNoShowed  BookingsCheckedIn  ...  \\\n",
       "0         105.3                 1                 0                  3  ...   \n",
       "1          53.0                 0                 0                  1  ...   \n",
       "2           0.0                 0                 0                  0  ...   \n",
       "3          60.0                 0                 0                  1  ...   \n",
       "4           0.0                 0                 0                  0  ...   \n",
       "\n",
       "   SRMediumFloor  SRBathtub  SRShower  SRCrib SRKingSizeBed SRTwinBed  \\\n",
       "0              0          0         0       0             0         0   \n",
       "1              0          0         0       0             0         0   \n",
       "2              0          0         0       0             0         0   \n",
       "3              0          0         0       0             0         0   \n",
       "4              0          0         0       0             0         0   \n",
       "\n",
       "   SRNearElevator  SRAwayFromElevator  SRNoAlcoholInMiniBar  SRQuietRoom  \n",
       "0               0                   0                     0            0  \n",
       "1               0                   0                     0            0  \n",
       "2               0                   0                     0            0  \n",
       "3               0                   0                     0            0  \n",
       "4               0                   0                     0            0  \n",
       "\n",
       "[5 rows x 29 columns]"
      ]
     },
     "execution_count": 23,
     "metadata": {},
     "output_type": "execute_result"
    }
   ],
   "source": [
    "hotels.head()"
   ]
  },
  {
   "cell_type": "code",
   "execution_count": 24,
   "id": "a500e54f",
   "metadata": {},
   "outputs": [
    {
     "name": "stdout",
     "output_type": "stream",
     "text": [
      "<class 'pandas.core.frame.DataFrame'>\n",
      "RangeIndex: 83590 entries, 0 to 83589\n",
      "Data columns (total 29 columns):\n",
      " #   Column                Non-Null Count  Dtype  \n",
      "---  ------                --------------  -----  \n",
      " 0   ID                    83590 non-null  int64  \n",
      " 1   Nationality           83590 non-null  object \n",
      " 2   Age                   79811 non-null  float64\n",
      " 3   DaysSinceCreation     83590 non-null  int64  \n",
      " 4   AverageLeadTime       83590 non-null  int64  \n",
      " 5   LodgingRevenue        83590 non-null  float64\n",
      " 6   OtherRevenue          83590 non-null  float64\n",
      " 7   BookingsCanceled      83590 non-null  int64  \n",
      " 8   BookingsNoShowed      83590 non-null  int64  \n",
      " 9   BookingsCheckedIn     83590 non-null  int64  \n",
      " 10  PersonsNights         83590 non-null  int64  \n",
      " 11  RoomNights            83590 non-null  int64  \n",
      " 12  DaysSinceLastStay     83590 non-null  int64  \n",
      " 13  DaysSinceFirstStay    83590 non-null  int64  \n",
      " 14  DistributionChannel   83590 non-null  object \n",
      " 15  MarketSegment         83590 non-null  object \n",
      " 16  SRHighFloor           83590 non-null  int64  \n",
      " 17  SRLowFloor            83590 non-null  int64  \n",
      " 18  SRAccessibleRoom      83590 non-null  int64  \n",
      " 19  SRMediumFloor         83590 non-null  int64  \n",
      " 20  SRBathtub             83590 non-null  int64  \n",
      " 21  SRShower              83590 non-null  int64  \n",
      " 22  SRCrib                83590 non-null  int64  \n",
      " 23  SRKingSizeBed         83590 non-null  int64  \n",
      " 24  SRTwinBed             83590 non-null  int64  \n",
      " 25  SRNearElevator        83590 non-null  int64  \n",
      " 26  SRAwayFromElevator    83590 non-null  int64  \n",
      " 27  SRNoAlcoholInMiniBar  83590 non-null  int64  \n",
      " 28  SRQuietRoom           83590 non-null  int64  \n",
      "dtypes: float64(3), int64(23), object(3)\n",
      "memory usage: 32.5 MB\n"
     ]
    }
   ],
   "source": [
    "hotels.info(memory_usage=\"deep\")"
   ]
  },
  {
   "cell_type": "code",
   "execution_count": 25,
   "id": "425e738b",
   "metadata": {},
   "outputs": [],
   "source": [
    "hotels[\"TotalRevenue\"] = hotels[\"LodgingRevenue\"] + hotels[\"OtherRevenue\"]"
   ]
  },
  {
   "cell_type": "code",
   "execution_count": 26,
   "id": "8d68018a",
   "metadata": {},
   "outputs": [
    {
     "data": {
      "text/html": [
       "<div>\n",
       "<style scoped>\n",
       "    .dataframe tbody tr th:only-of-type {\n",
       "        vertical-align: middle;\n",
       "    }\n",
       "\n",
       "    .dataframe tbody tr th {\n",
       "        vertical-align: top;\n",
       "    }\n",
       "\n",
       "    .dataframe thead th {\n",
       "        text-align: right;\n",
       "    }\n",
       "</style>\n",
       "<table border=\"1\" class=\"dataframe\">\n",
       "  <thead>\n",
       "    <tr style=\"text-align: right;\">\n",
       "      <th></th>\n",
       "      <th>ID</th>\n",
       "      <th>Nationality</th>\n",
       "      <th>Age</th>\n",
       "      <th>DaysSinceCreation</th>\n",
       "      <th>AverageLeadTime</th>\n",
       "      <th>LodgingRevenue</th>\n",
       "      <th>OtherRevenue</th>\n",
       "      <th>BookingsCanceled</th>\n",
       "      <th>BookingsNoShowed</th>\n",
       "      <th>BookingsCheckedIn</th>\n",
       "      <th>...</th>\n",
       "      <th>SRBathtub</th>\n",
       "      <th>SRShower</th>\n",
       "      <th>SRCrib</th>\n",
       "      <th>SRKingSizeBed</th>\n",
       "      <th>SRTwinBed</th>\n",
       "      <th>SRNearElevator</th>\n",
       "      <th>SRAwayFromElevator</th>\n",
       "      <th>SRNoAlcoholInMiniBar</th>\n",
       "      <th>SRQuietRoom</th>\n",
       "      <th>TotalRevenue</th>\n",
       "    </tr>\n",
       "  </thead>\n",
       "  <tbody>\n",
       "    <tr>\n",
       "      <th>0</th>\n",
       "      <td>1</td>\n",
       "      <td>PRT</td>\n",
       "      <td>51.0</td>\n",
       "      <td>150</td>\n",
       "      <td>45</td>\n",
       "      <td>371.0</td>\n",
       "      <td>105.3</td>\n",
       "      <td>1</td>\n",
       "      <td>0</td>\n",
       "      <td>3</td>\n",
       "      <td>...</td>\n",
       "      <td>0</td>\n",
       "      <td>0</td>\n",
       "      <td>0</td>\n",
       "      <td>0</td>\n",
       "      <td>0</td>\n",
       "      <td>0</td>\n",
       "      <td>0</td>\n",
       "      <td>0</td>\n",
       "      <td>0</td>\n",
       "      <td>476.3</td>\n",
       "    </tr>\n",
       "    <tr>\n",
       "      <th>1</th>\n",
       "      <td>2</td>\n",
       "      <td>PRT</td>\n",
       "      <td>NaN</td>\n",
       "      <td>1095</td>\n",
       "      <td>61</td>\n",
       "      <td>280.0</td>\n",
       "      <td>53.0</td>\n",
       "      <td>0</td>\n",
       "      <td>0</td>\n",
       "      <td>1</td>\n",
       "      <td>...</td>\n",
       "      <td>0</td>\n",
       "      <td>0</td>\n",
       "      <td>0</td>\n",
       "      <td>0</td>\n",
       "      <td>0</td>\n",
       "      <td>0</td>\n",
       "      <td>0</td>\n",
       "      <td>0</td>\n",
       "      <td>0</td>\n",
       "      <td>333.0</td>\n",
       "    </tr>\n",
       "    <tr>\n",
       "      <th>2</th>\n",
       "      <td>3</td>\n",
       "      <td>DEU</td>\n",
       "      <td>31.0</td>\n",
       "      <td>1095</td>\n",
       "      <td>0</td>\n",
       "      <td>0.0</td>\n",
       "      <td>0.0</td>\n",
       "      <td>0</td>\n",
       "      <td>0</td>\n",
       "      <td>0</td>\n",
       "      <td>...</td>\n",
       "      <td>0</td>\n",
       "      <td>0</td>\n",
       "      <td>0</td>\n",
       "      <td>0</td>\n",
       "      <td>0</td>\n",
       "      <td>0</td>\n",
       "      <td>0</td>\n",
       "      <td>0</td>\n",
       "      <td>0</td>\n",
       "      <td>0.0</td>\n",
       "    </tr>\n",
       "    <tr>\n",
       "      <th>3</th>\n",
       "      <td>4</td>\n",
       "      <td>FRA</td>\n",
       "      <td>60.0</td>\n",
       "      <td>1095</td>\n",
       "      <td>93</td>\n",
       "      <td>240.0</td>\n",
       "      <td>60.0</td>\n",
       "      <td>0</td>\n",
       "      <td>0</td>\n",
       "      <td>1</td>\n",
       "      <td>...</td>\n",
       "      <td>0</td>\n",
       "      <td>0</td>\n",
       "      <td>0</td>\n",
       "      <td>0</td>\n",
       "      <td>0</td>\n",
       "      <td>0</td>\n",
       "      <td>0</td>\n",
       "      <td>0</td>\n",
       "      <td>0</td>\n",
       "      <td>300.0</td>\n",
       "    </tr>\n",
       "    <tr>\n",
       "      <th>4</th>\n",
       "      <td>5</td>\n",
       "      <td>FRA</td>\n",
       "      <td>51.0</td>\n",
       "      <td>1095</td>\n",
       "      <td>0</td>\n",
       "      <td>0.0</td>\n",
       "      <td>0.0</td>\n",
       "      <td>0</td>\n",
       "      <td>0</td>\n",
       "      <td>0</td>\n",
       "      <td>...</td>\n",
       "      <td>0</td>\n",
       "      <td>0</td>\n",
       "      <td>0</td>\n",
       "      <td>0</td>\n",
       "      <td>0</td>\n",
       "      <td>0</td>\n",
       "      <td>0</td>\n",
       "      <td>0</td>\n",
       "      <td>0</td>\n",
       "      <td>0.0</td>\n",
       "    </tr>\n",
       "  </tbody>\n",
       "</table>\n",
       "<p>5 rows × 30 columns</p>\n",
       "</div>"
      ],
      "text/plain": [
       "   ID Nationality   Age  DaysSinceCreation  AverageLeadTime  LodgingRevenue  \\\n",
       "0   1         PRT  51.0                150               45           371.0   \n",
       "1   2         PRT   NaN               1095               61           280.0   \n",
       "2   3         DEU  31.0               1095                0             0.0   \n",
       "3   4         FRA  60.0               1095               93           240.0   \n",
       "4   5         FRA  51.0               1095                0             0.0   \n",
       "\n",
       "   OtherRevenue  BookingsCanceled  BookingsNoShowed  BookingsCheckedIn  ...  \\\n",
       "0         105.3                 1                 0                  3  ...   \n",
       "1          53.0                 0                 0                  1  ...   \n",
       "2           0.0                 0                 0                  0  ...   \n",
       "3          60.0                 0                 0                  1  ...   \n",
       "4           0.0                 0                 0                  0  ...   \n",
       "\n",
       "   SRBathtub  SRShower  SRCrib  SRKingSizeBed SRTwinBed SRNearElevator  \\\n",
       "0          0         0       0              0         0              0   \n",
       "1          0         0       0              0         0              0   \n",
       "2          0         0       0              0         0              0   \n",
       "3          0         0       0              0         0              0   \n",
       "4          0         0       0              0         0              0   \n",
       "\n",
       "   SRAwayFromElevator  SRNoAlcoholInMiniBar  SRQuietRoom  TotalRevenue  \n",
       "0                   0                     0            0         476.3  \n",
       "1                   0                     0            0         333.0  \n",
       "2                   0                     0            0           0.0  \n",
       "3                   0                     0            0         300.0  \n",
       "4                   0                     0            0           0.0  \n",
       "\n",
       "[5 rows x 30 columns]"
      ]
     },
     "execution_count": 26,
     "metadata": {},
     "output_type": "execute_result"
    }
   ],
   "source": [
    "hotels.head()"
   ]
  },
  {
   "cell_type": "code",
   "execution_count": 27,
   "id": "b4f99492",
   "metadata": {},
   "outputs": [],
   "source": [
    "special_requests = [col for col in hotels.columns if col[:2] == \"SR\"]"
   ]
  },
  {
   "cell_type": "code",
   "execution_count": 28,
   "id": "bb2598d4",
   "metadata": {},
   "outputs": [
    {
     "data": {
      "text/plain": [
       "13"
      ]
     },
     "execution_count": 28,
     "metadata": {},
     "output_type": "execute_result"
    }
   ],
   "source": [
    "len(special_requests)"
   ]
  },
  {
   "cell_type": "code",
   "execution_count": 36,
   "id": "10e93947",
   "metadata": {},
   "outputs": [
    {
     "data": {
      "image/png": "[encoded data removed]",
      "text/plain": [
       "<Figure size 432x288 with 13 Axes>"
      ]
     },
     "metadata": {
      "needs_background": "light"
     },
     "output_type": "display_data"
    }
   ],
   "source": [
    "fig, ax = plt.subplots(1, len(special_requests))\n",
    "\n",
    "for i, col in enumerate(special_requests):\n",
    "    ax[i].bar(hotels[col].value_counts(normalize=True).index, hotels[col].value_counts(normalize=True))"
   ]
  },
  {
   "cell_type": "code",
   "execution_count": 42,
   "id": "c63f6733",
   "metadata": {},
   "outputs": [
    {
     "data": {
      "image/png": "[encoded data removed]",
      "text/plain": [
       "<Figure size 432x288 with 13 Axes>"
      ]
     },
     "metadata": {
      "needs_background": "light"
     },
     "output_type": "display_data"
    }
   ],
   "source": [
    "import math\n",
    "from matplotlib import pyplot as plt\n",
    "\n",
    "size = math.ceil(hotels.shape[1]** (1/2))\n",
    "fig = plt.figure()\n",
    "\n",
    "for i, col in enumerate(special_requests):\n",
    "    fig.add_subplot(size, size, i + 1)\n",
    "    hotels[col].value_counts().plot(kind=\"bar\", ax=plt.gca(), title=col, rot=0)\n",
    "\n",
    "    \n",
    "fig.size = (10, 10)"
   ]
  },
  {
   "cell_type": "code",
   "execution_count": 48,
   "id": "0c0728a9",
   "metadata": {},
   "outputs": [
    {
     "data": {
      "text/plain": [
       "<AxesSubplot:xlabel='Nationality'>"
      ]
     },
     "execution_count": 48,
     "metadata": {},
     "output_type": "execute_result"
    },
    {
     "data": {
      "image/png": "[encoded data removed]",
      "text/plain": [
       "<Figure size 432x288 with 1 Axes>"
      ]
     },
     "metadata": {
      "needs_background": "light"
     },
     "output_type": "display_data"
    }
   ],
   "source": [
    "hotels.groupby(\"Nationality\").agg({\"TotalRevenue\": \"sum\"}).sort_values(\"TotalRevenue\", ascending=False).iloc[:10].plot.bar()"
   ]
  },
  {
   "cell_type": "code",
   "execution_count": 50,
   "id": "e7f3203c",
   "metadata": {},
   "outputs": [
    {
     "data": {
      "text/plain": [
       "<AxesSubplot:xlabel='ID'>"
      ]
     },
     "execution_count": 50,
     "metadata": {},
     "output_type": "execute_result"
    },
    {
     "data": {
      "image/png": "[encoded data removed]",
      "text/plain": [
       "<Figure size 432x288 with 1 Axes>"
      ]
     },
     "metadata": {
      "needs_background": "light"
     },
     "output_type": "display_data"
    }
   ],
   "source": [
    "hotels.plot(x=\"ID\", y = \"DaysSinceCreation\")"
   ]
  },
  {
   "cell_type": "code",
   "execution_count": 53,
   "id": "077559ee",
   "metadata": {},
   "outputs": [],
   "source": [
    "hotel_revenue_ts = hotels.groupby(\"DaysSinceCreation\").agg({\"TotalRevenue\": \"sum\",\n",
    "                                         \"LodgingRevenue\": \"sum\",\n",
    "                                         \"OtherRevenue\": \"sum\"}).sort_values(\"DaysSinceCreation\", ascending=False)"
   ]
  },
  {
   "cell_type": "code",
   "execution_count": 80,
   "id": "3867f125",
   "metadata": {},
   "outputs": [
    {
     "data": {
      "text/plain": [
       "(1095, 2)"
      ]
     },
     "execution_count": 80,
     "metadata": {},
     "output_type": "execute_result"
    }
   ],
   "source": [
    "hotel_revenue_ts.loc[:, [\"LodgingRevenue\", \"OtherRevenue\"]].shape"
   ]
  },
  {
   "cell_type": "code",
   "execution_count": 82,
   "id": "31d3a55a",
   "metadata": {},
   "outputs": [
    {
     "data": {
      "text/plain": [
       "[<matplotlib.collections.PolyCollection at 0x7fc95825f9a0>,\n",
       " <matplotlib.collections.PolyCollection at 0x7fc95825fd60>]"
      ]
     },
     "execution_count": 82,
     "metadata": {},
     "output_type": "execute_result"
    },
    {
     "data": {
      "image/png": "[encoded data removed]",
      "text/plain": [
       "<Figure size 432x288 with 1 Axes>"
      ]
     },
     "metadata": {
      "needs_background": "light"
     },
     "output_type": "display_data"
    }
   ],
   "source": [
    "fig, ax = plt.subplots()\n",
    "\n",
    "ax.stackplot(hotel_revenue_ts.index, hotel_revenue_ts.loc[:, [\"LodgingRevenue\", \"OtherRevenue\"]].T)"
   ]
  },
  {
   "cell_type": "code",
   "execution_count": 62,
   "id": "613dcb52",
   "metadata": {},
   "outputs": [
    {
     "data": {
      "text/plain": [
       "TotalRevenue      30626641.99\n",
       "LodgingRevenue    24976866.46\n",
       "OtherRevenue       5649775.53\n",
       "dtype: float64"
      ]
     },
     "execution_count": 62,
     "metadata": {},
     "output_type": "execute_result"
    }
   ],
   "source": [
    "hotel_revenue_ts.sum()"
   ]
  },
  {
   "cell_type": "code",
   "execution_count": 67,
   "id": "8e73fa21",
   "metadata": {},
   "outputs": [
    {
     "data": {
      "text/html": [
       "<div>\n",
       "<style scoped>\n",
       "    .dataframe tbody tr th:only-of-type {\n",
       "        vertical-align: middle;\n",
       "    }\n",
       "\n",
       "    .dataframe tbody tr th {\n",
       "        vertical-align: top;\n",
       "    }\n",
       "\n",
       "    .dataframe thead th {\n",
       "        text-align: right;\n",
       "    }\n",
       "</style>\n",
       "<table border=\"1\" class=\"dataframe\">\n",
       "  <thead>\n",
       "    <tr style=\"text-align: right;\">\n",
       "      <th></th>\n",
       "      <th>ID</th>\n",
       "      <th>Age</th>\n",
       "      <th>DaysSinceCreation</th>\n",
       "      <th>AverageLeadTime</th>\n",
       "      <th>LodgingRevenue</th>\n",
       "      <th>OtherRevenue</th>\n",
       "      <th>BookingsCanceled</th>\n",
       "      <th>BookingsNoShowed</th>\n",
       "      <th>BookingsCheckedIn</th>\n",
       "      <th>PersonsNights</th>\n",
       "      <th>...</th>\n",
       "      <th>SRBathtub</th>\n",
       "      <th>SRShower</th>\n",
       "      <th>SRCrib</th>\n",
       "      <th>SRKingSizeBed</th>\n",
       "      <th>SRTwinBed</th>\n",
       "      <th>SRNearElevator</th>\n",
       "      <th>SRAwayFromElevator</th>\n",
       "      <th>SRNoAlcoholInMiniBar</th>\n",
       "      <th>SRQuietRoom</th>\n",
       "      <th>TotalRevenue</th>\n",
       "    </tr>\n",
       "  </thead>\n",
       "  <tbody>\n",
       "    <tr>\n",
       "      <th>count</th>\n",
       "      <td>83590.000000</td>\n",
       "      <td>79811.000000</td>\n",
       "      <td>83590.000000</td>\n",
       "      <td>83590.000000</td>\n",
       "      <td>83590.000000</td>\n",
       "      <td>83590.000000</td>\n",
       "      <td>83590.000000</td>\n",
       "      <td>83590.000000</td>\n",
       "      <td>83590.000000</td>\n",
       "      <td>83590.000000</td>\n",
       "      <td>...</td>\n",
       "      <td>83590.000000</td>\n",
       "      <td>83590.000000</td>\n",
       "      <td>83590.000000</td>\n",
       "      <td>83590.000000</td>\n",
       "      <td>83590.000000</td>\n",
       "      <td>83590.000000</td>\n",
       "      <td>83590.000000</td>\n",
       "      <td>83590.000000</td>\n",
       "      <td>83590.000000</td>\n",
       "      <td>83590.000000</td>\n",
       "    </tr>\n",
       "    <tr>\n",
       "      <th>mean</th>\n",
       "      <td>41795.500000</td>\n",
       "      <td>45.398028</td>\n",
       "      <td>453.640902</td>\n",
       "      <td>66.196028</td>\n",
       "      <td>298.802087</td>\n",
       "      <td>67.589132</td>\n",
       "      <td>0.002022</td>\n",
       "      <td>0.000634</td>\n",
       "      <td>0.794617</td>\n",
       "      <td>4.649133</td>\n",
       "      <td>...</td>\n",
       "      <td>0.002847</td>\n",
       "      <td>0.001711</td>\n",
       "      <td>0.013219</td>\n",
       "      <td>0.352686</td>\n",
       "      <td>0.142541</td>\n",
       "      <td>0.000335</td>\n",
       "      <td>0.003505</td>\n",
       "      <td>0.000120</td>\n",
       "      <td>0.088372</td>\n",
       "      <td>366.391219</td>\n",
       "    </tr>\n",
       "    <tr>\n",
       "      <th>std</th>\n",
       "      <td>24130.498838</td>\n",
       "      <td>16.572368</td>\n",
       "      <td>313.390291</td>\n",
       "      <td>87.758990</td>\n",
       "      <td>372.851892</td>\n",
       "      <td>114.327776</td>\n",
       "      <td>0.066770</td>\n",
       "      <td>0.029545</td>\n",
       "      <td>0.695778</td>\n",
       "      <td>4.567673</td>\n",
       "      <td>...</td>\n",
       "      <td>0.053284</td>\n",
       "      <td>0.041326</td>\n",
       "      <td>0.114213</td>\n",
       "      <td>0.477809</td>\n",
       "      <td>0.349606</td>\n",
       "      <td>0.018299</td>\n",
       "      <td>0.059101</td>\n",
       "      <td>0.010937</td>\n",
       "      <td>0.283837</td>\n",
       "      <td>443.800439</td>\n",
       "    </tr>\n",
       "    <tr>\n",
       "      <th>min</th>\n",
       "      <td>1.000000</td>\n",
       "      <td>-11.000000</td>\n",
       "      <td>0.000000</td>\n",
       "      <td>-1.000000</td>\n",
       "      <td>0.000000</td>\n",
       "      <td>0.000000</td>\n",
       "      <td>0.000000</td>\n",
       "      <td>0.000000</td>\n",
       "      <td>0.000000</td>\n",
       "      <td>0.000000</td>\n",
       "      <td>...</td>\n",
       "      <td>0.000000</td>\n",
       "      <td>0.000000</td>\n",
       "      <td>0.000000</td>\n",
       "      <td>0.000000</td>\n",
       "      <td>0.000000</td>\n",
       "      <td>0.000000</td>\n",
       "      <td>0.000000</td>\n",
       "      <td>0.000000</td>\n",
       "      <td>0.000000</td>\n",
       "      <td>0.000000</td>\n",
       "    </tr>\n",
       "    <tr>\n",
       "      <th>25%</th>\n",
       "      <td>20898.250000</td>\n",
       "      <td>34.000000</td>\n",
       "      <td>177.000000</td>\n",
       "      <td>0.000000</td>\n",
       "      <td>59.000000</td>\n",
       "      <td>2.000000</td>\n",
       "      <td>0.000000</td>\n",
       "      <td>0.000000</td>\n",
       "      <td>1.000000</td>\n",
       "      <td>1.000000</td>\n",
       "      <td>...</td>\n",
       "      <td>0.000000</td>\n",
       "      <td>0.000000</td>\n",
       "      <td>0.000000</td>\n",
       "      <td>0.000000</td>\n",
       "      <td>0.000000</td>\n",
       "      <td>0.000000</td>\n",
       "      <td>0.000000</td>\n",
       "      <td>0.000000</td>\n",
       "      <td>0.000000</td>\n",
       "      <td>73.000000</td>\n",
       "    </tr>\n",
       "    <tr>\n",
       "      <th>50%</th>\n",
       "      <td>41795.500000</td>\n",
       "      <td>46.000000</td>\n",
       "      <td>397.000000</td>\n",
       "      <td>29.000000</td>\n",
       "      <td>234.000000</td>\n",
       "      <td>38.500000</td>\n",
       "      <td>0.000000</td>\n",
       "      <td>0.000000</td>\n",
       "      <td>1.000000</td>\n",
       "      <td>4.000000</td>\n",
       "      <td>...</td>\n",
       "      <td>0.000000</td>\n",
       "      <td>0.000000</td>\n",
       "      <td>0.000000</td>\n",
       "      <td>0.000000</td>\n",
       "      <td>0.000000</td>\n",
       "      <td>0.000000</td>\n",
       "      <td>0.000000</td>\n",
       "      <td>0.000000</td>\n",
       "      <td>0.000000</td>\n",
       "      <td>286.425000</td>\n",
       "    </tr>\n",
       "    <tr>\n",
       "      <th>75%</th>\n",
       "      <td>62692.750000</td>\n",
       "      <td>57.000000</td>\n",
       "      <td>723.000000</td>\n",
       "      <td>103.000000</td>\n",
       "      <td>402.000000</td>\n",
       "      <td>87.675000</td>\n",
       "      <td>0.000000</td>\n",
       "      <td>0.000000</td>\n",
       "      <td>1.000000</td>\n",
       "      <td>6.000000</td>\n",
       "      <td>...</td>\n",
       "      <td>0.000000</td>\n",
       "      <td>0.000000</td>\n",
       "      <td>0.000000</td>\n",
       "      <td>1.000000</td>\n",
       "      <td>0.000000</td>\n",
       "      <td>0.000000</td>\n",
       "      <td>0.000000</td>\n",
       "      <td>0.000000</td>\n",
       "      <td>0.000000</td>\n",
       "      <td>497.300000</td>\n",
       "    </tr>\n",
       "    <tr>\n",
       "      <th>max</th>\n",
       "      <td>83590.000000</td>\n",
       "      <td>122.000000</td>\n",
       "      <td>1095.000000</td>\n",
       "      <td>588.000000</td>\n",
       "      <td>21781.000000</td>\n",
       "      <td>7730.250000</td>\n",
       "      <td>9.000000</td>\n",
       "      <td>3.000000</td>\n",
       "      <td>66.000000</td>\n",
       "      <td>116.000000</td>\n",
       "      <td>...</td>\n",
       "      <td>1.000000</td>\n",
       "      <td>1.000000</td>\n",
       "      <td>1.000000</td>\n",
       "      <td>1.000000</td>\n",
       "      <td>1.000000</td>\n",
       "      <td>1.000000</td>\n",
       "      <td>1.000000</td>\n",
       "      <td>1.000000</td>\n",
       "      <td>1.000000</td>\n",
       "      <td>23365.000000</td>\n",
       "    </tr>\n",
       "  </tbody>\n",
       "</table>\n",
       "<p>8 rows × 27 columns</p>\n",
       "</div>"
      ],
      "text/plain": [
       "                 ID           Age  DaysSinceCreation  AverageLeadTime  \\\n",
       "count  83590.000000  79811.000000       83590.000000     83590.000000   \n",
       "mean   41795.500000     45.398028         453.640902        66.196028   \n",
       "std    24130.498838     16.572368         313.390291        87.758990   \n",
       "min        1.000000    -11.000000           0.000000        -1.000000   \n",
       "25%    20898.250000     34.000000         177.000000         0.000000   \n",
       "50%    41795.500000     46.000000         397.000000        29.000000   \n",
       "75%    62692.750000     57.000000         723.000000       103.000000   \n",
       "max    83590.000000    122.000000        1095.000000       588.000000   \n",
       "\n",
       "       LodgingRevenue  OtherRevenue  BookingsCanceled  BookingsNoShowed  \\\n",
       "count    83590.000000  83590.000000      83590.000000      83590.000000   \n",
       "mean       298.802087     67.589132          0.002022          0.000634   \n",
       "std        372.851892    114.327776          0.066770          0.029545   \n",
       "min          0.000000      0.000000          0.000000          0.000000   \n",
       "25%         59.000000      2.000000          0.000000          0.000000   \n",
       "50%        234.000000     38.500000          0.000000          0.000000   \n",
       "75%        402.000000     87.675000          0.000000          0.000000   \n",
       "max      21781.000000   7730.250000          9.000000          3.000000   \n",
       "\n",
       "       BookingsCheckedIn  PersonsNights  ...     SRBathtub      SRShower  \\\n",
       "count       83590.000000   83590.000000  ...  83590.000000  83590.000000   \n",
       "mean            0.794617       4.649133  ...      0.002847      0.001711   \n",
       "std             0.695778       4.567673  ...      0.053284      0.041326   \n",
       "min             0.000000       0.000000  ...      0.000000      0.000000   \n",
       "25%             1.000000       1.000000  ...      0.000000      0.000000   \n",
       "50%             1.000000       4.000000  ...      0.000000      0.000000   \n",
       "75%             1.000000       6.000000  ...      0.000000      0.000000   \n",
       "max            66.000000     116.000000  ...      1.000000      1.000000   \n",
       "\n",
       "             SRCrib  SRKingSizeBed     SRTwinBed  SRNearElevator  \\\n",
       "count  83590.000000   83590.000000  83590.000000    83590.000000   \n",
       "mean       0.013219       0.352686      0.142541        0.000335   \n",
       "std        0.114213       0.477809      0.349606        0.018299   \n",
       "min        0.000000       0.000000      0.000000        0.000000   \n",
       "25%        0.000000       0.000000      0.000000        0.000000   \n",
       "50%        0.000000       0.000000      0.000000        0.000000   \n",
       "75%        0.000000       1.000000      0.000000        0.000000   \n",
       "max        1.000000       1.000000      1.000000        1.000000   \n",
       "\n",
       "       SRAwayFromElevator  SRNoAlcoholInMiniBar   SRQuietRoom  TotalRevenue  \n",
       "count        83590.000000          83590.000000  83590.000000  83590.000000  \n",
       "mean             0.003505              0.000120      0.088372    366.391219  \n",
       "std              0.059101              0.010937      0.283837    443.800439  \n",
       "min              0.000000              0.000000      0.000000      0.000000  \n",
       "25%              0.000000              0.000000      0.000000     73.000000  \n",
       "50%              0.000000              0.000000      0.000000    286.425000  \n",
       "75%              0.000000              0.000000      0.000000    497.300000  \n",
       "max              1.000000              1.000000      1.000000  23365.000000  \n",
       "\n",
       "[8 rows x 27 columns]"
      ]
     },
     "execution_count": 67,
     "metadata": {},
     "output_type": "execute_result"
    }
   ],
   "source": [
    "hotels.describe()"
   ]
  },
  {
   "cell_type": "code",
   "execution_count": 74,
   "id": "400c44e5",
   "metadata": {},
   "outputs": [
    {
     "data": {
      "text/plain": [
       "([<matplotlib.patches.Wedge at 0x7fca83f54430>,\n",
       "  <matplotlib.patches.Wedge at 0x7fca83f54b50>],\n",
       " [Text(-0.6024010187327452, -0.9203874252888025, 'Lodging Revenue'),\n",
       "  Text(0.6024011479920746, 0.9203873406875123, 'OtherRevenue')],\n",
       " [Text(-0.3285823738542246, -0.5020295047029831, '82%'),\n",
       "  Text(0.32858244435931333, 0.5020294585568248, '18%')])"
      ]
     },
     "execution_count": 74,
     "metadata": {},
     "output_type": "execute_result"
    },
    {
     "data": {
      "image/png": "[encoded data removed]",
      "text/plain": [
       "<Figure size 432x288 with 1 Axes>"
      ]
     },
     "metadata": {},
     "output_type": "display_data"
    }
   ],
   "source": [
    "fig, ax = plt.subplots()\n",
    "\n",
    "ax.set_title(\"Percent of Revenue Attributed to Lodging\")\n",
    "\n",
    "ax.pie(\n",
    "    hotel_revenue_ts.sum().iloc[1:], \n",
    "    labels = [\"Lodging Revenue\", \"OtherRevenue\"],\n",
    "    startangle=90,\n",
    "    autopct=\"%.0f%%\"\n",
    ")"
   ]
  },
  {
   "cell_type": "code",
   "execution_count": 88,
   "id": "f8e426cd",
   "metadata": {},
   "outputs": [],
   "source": [
    "attendance = hotels.groupby([\"Nationality\"]).agg({\"BookingsCheckedIn\": \"sum\", \n",
    "                                   \"BookingsCanceled\": \"sum\", \n",
    "                                   \"BookingsNoShowed\": \"sum\"}).sort_values(\"BookingsCheckedIn\", ascending=False).iloc[:10]"
   ]
  },
  {
   "cell_type": "code",
   "execution_count": 97,
   "id": "d03fda89",
   "metadata": {},
   "outputs": [],
   "source": [
    "attendance_rate = attendance.div(attendance.sum(axis=1), axis=0)"
   ]
  },
  {
   "cell_type": "code",
   "execution_count": 104,
   "id": "26626dbc",
   "metadata": {},
   "outputs": [
    {
     "data": {
      "text/plain": [
       "<BarContainer object of 10 artists>"
      ]
     },
     "execution_count": 104,
     "metadata": {},
     "output_type": "execute_result"
    },
    {
     "data": {
      "image/png": "[encoded data removed]",
      "text/plain": [
       "<Figure size 432x288 with 1 Axes>"
      ]
     },
     "metadata": {
      "needs_background": "light"
     },
     "output_type": "display_data"
    }
   ],
   "source": [
    "fig, ax = plt.subplots()\n",
    "\n",
    "ax.barh(y=attendance_rate.index, width=attendance_rate[\"BookingsCheckedIn\"])\n",
    "ax.barh(y=attendance_rate.index, width=-attendance_rate[\"BookingsCanceled\"])\n",
    "ax.barh(y=attendance_rate.index, width=-attendance_rate[\"BookingsNoShowed\"])"
   ]
  },
  {
   "cell_type": "code",
   "execution_count": 105,
   "id": "368eca9c",
   "metadata": {},
   "outputs": [
    {
     "data": {
      "text/plain": [
       "Other                    48039\n",
       "Travel Agent/Operator    11670\n",
       "Direct                   11457\n",
       "Groups                    9501\n",
       "Corporate                 2169\n",
       "Complementary              510\n",
       "Aviation                   244\n",
       "Name: MarketSegment, dtype: int64"
      ]
     },
     "execution_count": 105,
     "metadata": {},
     "output_type": "execute_result"
    }
   ],
   "source": [
    "hotels[\"MarketSegment\"].value_counts()"
   ]
  },
  {
   "cell_type": "code",
   "execution_count": 106,
   "id": "9b0cb412",
   "metadata": {},
   "outputs": [
    {
     "data": {
      "text/plain": [
       "Travel Agent/Operator      68569\n",
       "Direct                     11912\n",
       "Corporate                   2600\n",
       "Electronic Distribution      509\n",
       "Name: DistributionChannel, dtype: int64"
      ]
     },
     "execution_count": 106,
     "metadata": {},
     "output_type": "execute_result"
    }
   ],
   "source": [
    "hotels[\"DistributionChannel\"].value_counts()"
   ]
  },
  {
   "cell_type": "code",
   "execution_count": 113,
   "id": "ae39c230",
   "metadata": {},
   "outputs": [],
   "source": [
    "hotels_pivot = hotels.pivot_table(index=\"MarketSegment\", \n",
    "                                  columns = \"DistributionChannel\",\n",
    "                                  values=\"TotalRevenue\",\n",
    "                                  aggfunc=\"mean\")"
   ]
  },
  {
   "cell_type": "code",
   "execution_count": 114,
   "id": "11a2d66d",
   "metadata": {},
   "outputs": [
    {
     "data": {
      "text/plain": [
       "<AxesSubplot:xlabel='DistributionChannel', ylabel='MarketSegment'>"
      ]
     },
     "execution_count": 114,
     "metadata": {},
     "output_type": "execute_result"
    },
    {
     "data": {
      "image/png": "[encoded data removed]",
      "text/plain": [
       "<Figure size 432x288 with 2 Axes>"
      ]
     },
     "metadata": {
      "needs_background": "light"
     },
     "output_type": "display_data"
    }
   ],
   "source": [
    "import seaborn as sns\n",
    "\n",
    "sns.heatmap(hotels_pivot)"
   ]
  },
  {
   "cell_type": "code",
   "execution_count": 118,
   "id": "b0e60db0",
   "metadata": {},
   "outputs": [
    {
     "data": {
      "text/plain": [
       "Index(['ID', 'Nationality', 'Age', 'DaysSinceCreation', 'AverageLeadTime',\n",
       "       'LodgingRevenue', 'OtherRevenue', 'BookingsCanceled',\n",
       "       'BookingsNoShowed', 'BookingsCheckedIn', 'PersonsNights', 'RoomNights',\n",
       "       'DaysSinceLastStay', 'DaysSinceFirstStay', 'DistributionChannel',\n",
       "       'MarketSegment', 'SRHighFloor', 'SRLowFloor', 'SRAccessibleRoom',\n",
       "       'SRMediumFloor', 'SRBathtub', 'SRShower', 'SRCrib', 'SRKingSizeBed',\n",
       "       'SRTwinBed', 'SRNearElevator', 'SRAwayFromElevator',\n",
       "       'SRNoAlcoholInMiniBar', 'SRQuietRoom', 'TotalRevenue'],\n",
       "      dtype='object')"
      ]
     },
     "execution_count": 118,
     "metadata": {},
     "output_type": "execute_result"
    }
   ],
   "source": [
    "hotels.columns"
   ]
  },
  {
   "cell_type": "code",
   "execution_count": 121,
   "id": "e934bde8",
   "metadata": {},
   "outputs": [
    {
     "ename": "AttributeError",
     "evalue": "'PlotAccessor' object has no attribute 'bubble'",
     "output_type": "error",
     "traceback": [
      "\u001b[0;31m---------------------------------------------------------------------------\u001b[0m",
      "\u001b[0;31mAttributeError\u001b[0m                            Traceback (most recent call last)",
      "\u001b[0;32m/var/folders/f8/075hbnj13wb0f9yzh9k4nyz00000gn/T/ipykernel_49295/3185965098.py\u001b[0m in \u001b[0;36m<module>\u001b[0;34m\u001b[0m\n\u001b[0;32m----> 1\u001b[0;31m \u001b[0mhotels\u001b[0m\u001b[0;34m.\u001b[0m\u001b[0mplot\u001b[0m\u001b[0;34m.\u001b[0m\u001b[0mbubble\u001b[0m\u001b[0;34m(\u001b[0m\u001b[0;34m'RoomNights'\u001b[0m\u001b[0;34m,\u001b[0m \u001b[0;34m\"TotalRevenue\"\u001b[0m\u001b[0;34m,\u001b[0m \u001b[0msize\u001b[0m\u001b[0;34m=\u001b[0m\u001b[0;34m\"BookingsCheckedIn\"\u001b[0m\u001b[0;34m)\u001b[0m\u001b[0;34m\u001b[0m\u001b[0;34m\u001b[0m\u001b[0m\n\u001b[0m",
      "\u001b[0;31mAttributeError\u001b[0m: 'PlotAccessor' object has no attribute 'bubble'"
     ]
    }
   ],
   "source": [
    "hotels.plot.scatter('RoomNights', \"TotalRevenue\", size=\"BookingsCheckedIn\")"
   ]
  },
  {
   "cell_type": "code",
   "execution_count": 127,
   "id": "6faa66f8",
   "metadata": {},
   "outputs": [
    {
     "data": {
      "text/plain": [
       "<AxesSubplot:>"
      ]
     },
     "execution_count": 127,
     "metadata": {},
     "output_type": "execute_result"
    },
    {
     "data": {
      "image/png": "[encoded data removed]",
      "text/plain": [
       "<Figure size 432x288 with 2 Axes>"
      ]
     },
     "metadata": {
      "needs_background": "light"
     },
     "output_type": "display_data"
    }
   ],
   "source": [
    "sns.heatmap(hotels.drop([col for col in hotels.columns if col[:2] == \"SR\"], axis=1).corr())"
   ]
  },
  {
   "cell_type": "code",
   "execution_count": 138,
   "id": "be0ab048",
   "metadata": {},
   "outputs": [],
   "source": [
    "hotels[\"nightly_avg_lodging\"] = hotels[\"LodgingRevenue\"] / hotels[\"RoomNights\"]\n",
    "hotels[\"nightly_extra_rev\"] = hotels[\"OtherRevenue\"] / hotels[\"RoomNights\"]"
   ]
  },
  {
   "cell_type": "code",
   "execution_count": 139,
   "id": "5ae31400",
   "metadata": {},
   "outputs": [
    {
     "data": {
      "text/plain": [
       "<AxesSubplot:xlabel='Nationality'>"
      ]
     },
     "execution_count": 139,
     "metadata": {},
     "output_type": "execute_result"
    },
    {
     "data": {
      "image/png": "[encoded data removed]",
      "text/plain": [
       "<Figure size 432x288 with 1 Axes>"
      ]
     },
     "metadata": {
      "needs_background": "light"
     },
     "output_type": "display_data"
    }
   ],
   "source": [
    "(hotels\n",
    " .groupby(\"Nationality\")\n",
    " .agg({\"nightly_avg\": \"mean\",\n",
    "       \"nightly_extra_rev\": \"mean\"})\n",
    " .sort_values(\"nightly_avg\", ascending=False)\n",
    " .loc[[\"USA\", \"FRA\", \"DEU\", \"GBR\", \"PRT\", \"ESP\"]]\n",
    " .plot.bar(stacked=True))"
   ]
  },
  {
   "cell_type": "code",
   "execution_count": 144,
   "id": "b2dd3b6c",
   "metadata": {},
   "outputs": [
    {
     "data": {
      "text/html": [
       "<div>\n",
       "<style scoped>\n",
       "    .dataframe tbody tr th:only-of-type {\n",
       "        vertical-align: middle;\n",
       "    }\n",
       "\n",
       "    .dataframe tbody tr th {\n",
       "        vertical-align: top;\n",
       "    }\n",
       "\n",
       "    .dataframe thead th {\n",
       "        text-align: right;\n",
       "    }\n",
       "</style>\n",
       "<table border=\"1\" class=\"dataframe\">\n",
       "  <thead>\n",
       "    <tr style=\"text-align: right;\">\n",
       "      <th></th>\n",
       "      <th>Age</th>\n",
       "    </tr>\n",
       "    <tr>\n",
       "      <th>Nationality</th>\n",
       "      <th></th>\n",
       "    </tr>\n",
       "  </thead>\n",
       "  <tbody>\n",
       "    <tr>\n",
       "      <th>KNA</th>\n",
       "      <td>78.0</td>\n",
       "    </tr>\n",
       "    <tr>\n",
       "      <th>LCA</th>\n",
       "      <td>68.0</td>\n",
       "    </tr>\n",
       "    <tr>\n",
       "      <th>KGZ</th>\n",
       "      <td>67.8</td>\n",
       "    </tr>\n",
       "    <tr>\n",
       "      <th>CYM</th>\n",
       "      <td>67.0</td>\n",
       "    </tr>\n",
       "    <tr>\n",
       "      <th>FLK</th>\n",
       "      <td>63.0</td>\n",
       "    </tr>\n",
       "    <tr>\n",
       "      <th>...</th>\n",
       "      <td>...</td>\n",
       "    </tr>\n",
       "    <tr>\n",
       "      <th>TON</th>\n",
       "      <td>9.0</td>\n",
       "    </tr>\n",
       "    <tr>\n",
       "      <th>VCT</th>\n",
       "      <td>7.0</td>\n",
       "    </tr>\n",
       "    <tr>\n",
       "      <th>IOT</th>\n",
       "      <td>5.0</td>\n",
       "    </tr>\n",
       "    <tr>\n",
       "      <th>TMP</th>\n",
       "      <td>3.0</td>\n",
       "    </tr>\n",
       "    <tr>\n",
       "      <th>PYF</th>\n",
       "      <td>-1.0</td>\n",
       "    </tr>\n",
       "  </tbody>\n",
       "</table>\n",
       "<p>188 rows × 1 columns</p>\n",
       "</div>"
      ],
      "text/plain": [
       "              Age\n",
       "Nationality      \n",
       "KNA          78.0\n",
       "LCA          68.0\n",
       "KGZ          67.8\n",
       "CYM          67.0\n",
       "FLK          63.0\n",
       "...           ...\n",
       "TON           9.0\n",
       "VCT           7.0\n",
       "IOT           5.0\n",
       "TMP           3.0\n",
       "PYF          -1.0\n",
       "\n",
       "[188 rows x 1 columns]"
      ]
     },
     "execution_count": 144,
     "metadata": {},
     "output_type": "execute_result"
    }
   ],
   "source": [
    "hotels.groupby(\"Nationality\").agg({\"Age\":\"mean\"}).sort_values(\"Age\", ascending=False)"
   ]
  },
  {
   "cell_type": "code",
   "execution_count": 147,
   "id": "2b8a4c11",
   "metadata": {},
   "outputs": [
    {
     "data": {
      "text/plain": [
       "<seaborn.axisgrid.FacetGrid at 0x7fc97088b7f0>"
      ]
     },
     "execution_count": 147,
     "metadata": {},
     "output_type": "execute_result"
    },
    {
     "data": {
      "image/png": "[encoded data removed]",
      "text/plain": [
       "<Figure size 1296x216 with 6 Axes>"
      ]
     },
     "metadata": {
      "needs_background": "light"
     },
     "output_type": "display_data"
    }
   ],
   "source": [
    "facet = sns.FacetGrid(hotels.loc[hotels[\"Nationality\"].isin([\"USA\", \"FRA\", \"DEU\", \"GBR\", \"PRT\", \"ESP\"])], col=\"Nationality\")\n",
    "\n",
    "facet.map(sns.histplot, \"TotalRevenue\")"
   ]
  },
  {
   "cell_type": "code",
   "execution_count": null,
   "id": "a80c8a88",
   "metadata": {},
   "outputs": [],
   "source": []
  }
 ],
 "metadata": {
  "kernelspec": {
   "display_name": "Python 3 (ipykernel)",
   "language": "python",
   "name": "python3"
  },
  "language_info": {
   "codemirror_mode": {
    "name": "ipython",
    "version": 3
   },
   "file_extension": ".py",
   "mimetype": "text/x-python",
   "name": "python",
   "nbconvert_exporter": "python",
   "pygments_lexer": "ipython3",
   "version": "3.9.7"
  }
 },
 "nbformat": 4,
 "nbformat_minor": 5
}
