{
 "cells": [
  {
   "cell_type": "code",
   "execution_count": 1,
   "id": "25a4eaa5",
   "metadata": {},
   "outputs": [],
   "source": [
    "import pandas as pd\n",
    "import matplotlib.pyplot as plt\n",
    "import numpy as np"
   ]
  },
  {
   "cell_type": "code",
   "execution_count": 3,
   "id": "089a8a1d",
   "metadata": {},
   "outputs": [],
   "source": [
    "coffee_production = pd.read_csv(\"coffee/total-production.csv\").T\n",
    "\n",
    "coffee_production.columns= coffee_production.iloc[0]\n",
    "\n",
    "coffee_production.drop(\"total_production\", inplace=True)"
   ]
  },
  {
   "cell_type": "markdown",
   "id": "4959a759",
   "metadata": {},
   "source": [
    "# Coffee Production Stats\n",
    "\n",
    "* Create a bar chart of the top 10 coffee producers by total production in 'total-production.csv', sorted from highest to lowest. Change the xticks to two letter country abbreviations."
   ]
  },
  {
   "cell_type": "code",
   "execution_count": 4,
   "id": "a5c1d847",
   "metadata": {},
   "outputs": [
    {
     "data": {
      "text/html": [
       "<div>\n",
       "<style scoped>\n",
       "    .dataframe tbody tr th:only-of-type {\n",
       "        vertical-align: middle;\n",
       "    }\n",
       "\n",
       "    .dataframe tbody tr th {\n",
       "        vertical-align: top;\n",
       "    }\n",
       "\n",
       "    .dataframe thead th {\n",
       "        text-align: right;\n",
       "    }\n",
       "</style>\n",
       "<table border=\"1\" class=\"dataframe\">\n",
       "  <thead>\n",
       "    <tr style=\"text-align: right;\">\n",
       "      <th>total_production</th>\n",
       "      <th>Angola</th>\n",
       "      <th>Bolivia (Plurinational State of)</th>\n",
       "      <th>Brazil</th>\n",
       "      <th>Burundi</th>\n",
       "      <th>Ecuador</th>\n",
       "      <th>Indonesia</th>\n",
       "      <th>Madagascar</th>\n",
       "      <th>Malawi</th>\n",
       "      <th>Papua New Guinea</th>\n",
       "      <th>Paraguay</th>\n",
       "      <th>...</th>\n",
       "      <th>Panama</th>\n",
       "      <th>Sierra Leone</th>\n",
       "      <th>Sri Lanka</th>\n",
       "      <th>Thailand</th>\n",
       "      <th>Togo</th>\n",
       "      <th>Trinidad &amp; Tobago</th>\n",
       "      <th>Uganda</th>\n",
       "      <th>Venezuela</th>\n",
       "      <th>Viet Nam</th>\n",
       "      <th>Yemen</th>\n",
       "    </tr>\n",
       "  </thead>\n",
       "  <tbody>\n",
       "    <tr>\n",
       "      <th>1990</th>\n",
       "      <td>50.345</td>\n",
       "      <td>122.777</td>\n",
       "      <td>27285.6286</td>\n",
       "      <td>487.393</td>\n",
       "      <td>1503.815</td>\n",
       "      <td>7441.383</td>\n",
       "      <td>982.447</td>\n",
       "      <td>104.628</td>\n",
       "      <td>962.841</td>\n",
       "      <td>130.627</td>\n",
       "      <td>...</td>\n",
       "      <td>214.987</td>\n",
       "      <td>42.783</td>\n",
       "      <td>95.87</td>\n",
       "      <td>757.017</td>\n",
       "      <td>161.308</td>\n",
       "      <td>14.581</td>\n",
       "      <td>1955.009</td>\n",
       "      <td>1122.477</td>\n",
       "      <td>1310.288</td>\n",
       "      <td>0.0</td>\n",
       "    </tr>\n",
       "    <tr>\n",
       "      <th>1991</th>\n",
       "      <td>79.331</td>\n",
       "      <td>103.536</td>\n",
       "      <td>27293.4934</td>\n",
       "      <td>667.199</td>\n",
       "      <td>2123.824</td>\n",
       "      <td>8493.196</td>\n",
       "      <td>932.513</td>\n",
       "      <td>124.286</td>\n",
       "      <td>746.816</td>\n",
       "      <td>79.653</td>\n",
       "      <td>...</td>\n",
       "      <td>192.532</td>\n",
       "      <td>54.379</td>\n",
       "      <td>81.549</td>\n",
       "      <td>1468.936</td>\n",
       "      <td>432.652</td>\n",
       "      <td>17.792</td>\n",
       "      <td>2088.001</td>\n",
       "      <td>940.704</td>\n",
       "      <td>1437.848</td>\n",
       "      <td>0.0</td>\n",
       "    </tr>\n",
       "    <tr>\n",
       "      <th>1992</th>\n",
       "      <td>77.52</td>\n",
       "      <td>120.235</td>\n",
       "      <td>34603.3542</td>\n",
       "      <td>620.238</td>\n",
       "      <td>1185.48</td>\n",
       "      <td>5569.478</td>\n",
       "      <td>1121.684</td>\n",
       "      <td>137.161</td>\n",
       "      <td>900.111</td>\n",
       "      <td>54.291</td>\n",
       "      <td>...</td>\n",
       "      <td>196.978</td>\n",
       "      <td>39.084</td>\n",
       "      <td>53.181</td>\n",
       "      <td>1254.945</td>\n",
       "      <td>85.648</td>\n",
       "      <td>14.328</td>\n",
       "      <td>2185.074</td>\n",
       "      <td>1215.298</td>\n",
       "      <td>2340.447</td>\n",
       "      <td>0.0</td>\n",
       "    </tr>\n",
       "    <tr>\n",
       "      <th>1993</th>\n",
       "      <td>32.608</td>\n",
       "      <td>50.823</td>\n",
       "      <td>28166.9786</td>\n",
       "      <td>393.354</td>\n",
       "      <td>2069.007</td>\n",
       "      <td>6743.288</td>\n",
       "      <td>441.859</td>\n",
       "      <td>62.111</td>\n",
       "      <td>1019.481</td>\n",
       "      <td>70.046</td>\n",
       "      <td>...</td>\n",
       "      <td>142.066</td>\n",
       "      <td>37.451</td>\n",
       "      <td>53.79</td>\n",
       "      <td>1275.201</td>\n",
       "      <td>194.939</td>\n",
       "      <td>16.079</td>\n",
       "      <td>3141.706</td>\n",
       "      <td>1332.881</td>\n",
       "      <td>3020.216</td>\n",
       "      <td>0.0</td>\n",
       "    </tr>\n",
       "    <tr>\n",
       "      <th>1994</th>\n",
       "      <td>76.802</td>\n",
       "      <td>116.944</td>\n",
       "      <td>28192.047</td>\n",
       "      <td>664.143</td>\n",
       "      <td>2375.766</td>\n",
       "      <td>5367.878</td>\n",
       "      <td>641.372</td>\n",
       "      <td>84.112</td>\n",
       "      <td>1138.659</td>\n",
       "      <td>24.689</td>\n",
       "      <td>...</td>\n",
       "      <td>248.313</td>\n",
       "      <td>72.738</td>\n",
       "      <td>42.448</td>\n",
       "      <td>1399.135</td>\n",
       "      <td>176.296</td>\n",
       "      <td>18.435</td>\n",
       "      <td>2392.753</td>\n",
       "      <td>988.996</td>\n",
       "      <td>3631.609</td>\n",
       "      <td>0.0</td>\n",
       "    </tr>\n",
       "  </tbody>\n",
       "</table>\n",
       "<p>5 rows × 56 columns</p>\n",
       "</div>"
      ],
      "text/plain": [
       "total_production  Angola Bolivia (Plurinational State of)      Brazil  \\\n",
       "1990              50.345                          122.777  27285.6286   \n",
       "1991              79.331                          103.536  27293.4934   \n",
       "1992               77.52                          120.235  34603.3542   \n",
       "1993              32.608                           50.823  28166.9786   \n",
       "1994              76.802                          116.944   28192.047   \n",
       "\n",
       "total_production  Burundi   Ecuador Indonesia Madagascar   Malawi  \\\n",
       "1990              487.393  1503.815  7441.383    982.447  104.628   \n",
       "1991              667.199  2123.824  8493.196    932.513  124.286   \n",
       "1992              620.238   1185.48  5569.478   1121.684  137.161   \n",
       "1993              393.354  2069.007  6743.288    441.859   62.111   \n",
       "1994              664.143  2375.766  5367.878    641.372   84.112   \n",
       "\n",
       "total_production Papua New Guinea Paraguay  ...   Panama Sierra Leone  \\\n",
       "1990                      962.841  130.627  ...  214.987       42.783   \n",
       "1991                      746.816   79.653  ...  192.532       54.379   \n",
       "1992                      900.111   54.291  ...  196.978       39.084   \n",
       "1993                     1019.481   70.046  ...  142.066       37.451   \n",
       "1994                     1138.659   24.689  ...  248.313       72.738   \n",
       "\n",
       "total_production Sri Lanka  Thailand     Togo Trinidad & Tobago    Uganda  \\\n",
       "1990                 95.87   757.017  161.308            14.581  1955.009   \n",
       "1991                81.549  1468.936  432.652            17.792  2088.001   \n",
       "1992                53.181  1254.945   85.648            14.328  2185.074   \n",
       "1993                 53.79  1275.201  194.939            16.079  3141.706   \n",
       "1994                42.448  1399.135  176.296            18.435  2392.753   \n",
       "\n",
       "total_production Venezuela  Viet Nam Yemen  \n",
       "1990              1122.477  1310.288   0.0  \n",
       "1991               940.704  1437.848   0.0  \n",
       "1992              1215.298  2340.447   0.0  \n",
       "1993              1332.881  3020.216   0.0  \n",
       "1994               988.996  3631.609   0.0  \n",
       "\n",
       "[5 rows x 56 columns]"
      ]
     },
     "execution_count": 4,
     "metadata": {},
     "output_type": "execute_result"
    }
   ],
   "source": [
    "coffee_production.head()"
   ]
  },
  {
   "cell_type": "code",
   "execution_count": 5,
   "id": "5915e6bc",
   "metadata": {},
   "outputs": [
    {
     "data": {
      "text/plain": [
       "total_production\n",
       "Brazil       1190965.7353\n",
       "Viet Nam      439540.9519\n",
       "Colombia      345871.4464\n",
       "Indonesia     245116.7707\n",
       "Ethiopia      141542.8931\n",
       "dtype: object"
      ]
     },
     "execution_count": 5,
     "metadata": {},
     "output_type": "execute_result"
    }
   ],
   "source": [
    "top10_producers = coffee_production.sum().sort_values(ascending=False).iloc[:10]\n",
    "\n",
    "top10_producers.head()"
   ]
  },
  {
   "cell_type": "code",
   "execution_count": 6,
   "id": "a92f0de0",
   "metadata": {},
   "outputs": [
    {
     "data": {
      "image/png": "[encoded data removed]",
      "text/plain": [
       "<Figure size 576x576 with 1 Axes>"
      ]
     },
     "metadata": {
      "needs_background": "light"
     },
     "output_type": "display_data"
    }
   ],
   "source": [
    "fig, ax = plt.subplots(figsize=(8, 8))\n",
    "\n",
    "ax.bar(x=top10_producers.index, height=top10_producers)\n",
    "\n",
    "\n",
    "positions = list(range(10))\n",
    "labels = [\"BR\", \"VN\", \"CO\", \"ID\", \"ET\", \"IN\", \"MX\", \"GT\", \"HN\", \"UG\"]\n",
    "\n",
    "ax.set_title(\"Top Coffee Producing Nations 1990-2018\")\n",
    "ax.set_ylabel(\"Production (Millions 60kg Bags)\", fontsize=14)\n",
    "\n",
    "ax.set_xticks(positions)\n",
    "ax.set_xticklabels(labels)\n",
    "\n",
    "plt.show()"
   ]
  },
  {
   "cell_type": "markdown",
   "id": "1dfa7172",
   "metadata": {},
   "source": [
    "# Top 5 over time\n",
    "\n",
    "* Then, Create a line chart with the top 5 nations over time. Make sure to include a legend! Consider converting the index to datetime64[ns]."
   ]
  },
  {
   "cell_type": "code",
   "execution_count": 7,
   "id": "ac2cb09b",
   "metadata": {},
   "outputs": [
    {
     "data": {
      "text/html": [
       "<div>\n",
       "<style scoped>\n",
       "    .dataframe tbody tr th:only-of-type {\n",
       "        vertical-align: middle;\n",
       "    }\n",
       "\n",
       "    .dataframe tbody tr th {\n",
       "        vertical-align: top;\n",
       "    }\n",
       "\n",
       "    .dataframe thead th {\n",
       "        text-align: right;\n",
       "    }\n",
       "</style>\n",
       "<table border=\"1\" class=\"dataframe\">\n",
       "  <thead>\n",
       "    <tr style=\"text-align: right;\">\n",
       "      <th>total_production</th>\n",
       "      <th>Brazil</th>\n",
       "      <th>Viet Nam</th>\n",
       "      <th>Colombia</th>\n",
       "      <th>Indonesia</th>\n",
       "      <th>Ethiopia</th>\n",
       "    </tr>\n",
       "  </thead>\n",
       "  <tbody>\n",
       "    <tr>\n",
       "      <th>1990-01-01</th>\n",
       "      <td>27285.6286</td>\n",
       "      <td>1310.288</td>\n",
       "      <td>14396.0</td>\n",
       "      <td>7441.383</td>\n",
       "      <td>2909.451</td>\n",
       "    </tr>\n",
       "    <tr>\n",
       "      <th>1991-01-01</th>\n",
       "      <td>27293.4934</td>\n",
       "      <td>1437.848</td>\n",
       "      <td>17980.397</td>\n",
       "      <td>8493.196</td>\n",
       "      <td>2924.664</td>\n",
       "    </tr>\n",
       "    <tr>\n",
       "      <th>1992-01-01</th>\n",
       "      <td>34603.3542</td>\n",
       "      <td>2340.447</td>\n",
       "      <td>14946.878</td>\n",
       "      <td>5569.478</td>\n",
       "      <td>1825.171</td>\n",
       "    </tr>\n",
       "    <tr>\n",
       "      <th>1993-01-01</th>\n",
       "      <td>28166.9786</td>\n",
       "      <td>3020.216</td>\n",
       "      <td>11422.422</td>\n",
       "      <td>6743.288</td>\n",
       "      <td>2967.004</td>\n",
       "    </tr>\n",
       "    <tr>\n",
       "      <th>1994-01-01</th>\n",
       "      <td>28192.047</td>\n",
       "      <td>3631.609</td>\n",
       "      <td>12964.0</td>\n",
       "      <td>5367.878</td>\n",
       "      <td>2762.73</td>\n",
       "    </tr>\n",
       "  </tbody>\n",
       "</table>\n",
       "</div>"
      ],
      "text/plain": [
       "total_production      Brazil  Viet Nam   Colombia Indonesia  Ethiopia\n",
       "1990-01-01        27285.6286  1310.288    14396.0  7441.383  2909.451\n",
       "1991-01-01        27293.4934  1437.848  17980.397  8493.196  2924.664\n",
       "1992-01-01        34603.3542  2340.447  14946.878  5569.478  1825.171\n",
       "1993-01-01        28166.9786  3020.216  11422.422  6743.288  2967.004\n",
       "1994-01-01         28192.047  3631.609    12964.0  5367.878   2762.73"
      ]
     },
     "execution_count": 7,
     "metadata": {},
     "output_type": "execute_result"
    }
   ],
   "source": [
    "top5 = coffee_production.loc[:, [\"Brazil\", \"Viet Nam\", \"Colombia\", \"Indonesia\", \"Ethiopia\"]]\n",
    "top5.index = top5.index.astype(\"datetime64[ns]\")\n",
    "\n",
    "top5.head()"
   ]
  },
  {
   "cell_type": "code",
   "execution_count": 11,
   "id": "330e705a",
   "metadata": {},
   "outputs": [
    {
     "data": {
      "image/png": "[encoded data removed]",
      "text/plain": [
       "<Figure size 432x288 with 1 Axes>"
      ]
     },
     "metadata": {
      "needs_background": "light"
     },
     "output_type": "display_data"
    }
   ],
   "source": [
    "fig, ax = plt.subplots()\n",
    "\n",
    "fig.suptitle(\"Top Coffee Producing Nations 1990-2018\")\n",
    "ax.set_title(\"Viet Nam Surges to Number 2 Spot\")\n",
    "ax.set_ylabel(\"Production (Thousand 60kg Bags)\", fontsize=14)\n",
    "\n",
    "\n",
    "ax.plot(top5.index, coffee_production[\"Brazil\"], label=\"Brazil\")\n",
    "ax.plot(top5.index, coffee_production[\"Viet Nam\"], label=\"Viet Nam\")\n",
    "ax.plot(top5.index, coffee_production[\"Colombia\"], label=\"Colombia\")\n",
    "ax.plot(top5.index, coffee_production[\"Indonesia\"], label=\"Indonesia\")\n",
    "ax.plot(top5.index, coffee_production[\"Ethiopia\"], label=\"Ethiopia\")\n",
    "\n",
    "ax.legend()\n",
    "plt.show()"
   ]
  },
  {
   "cell_type": "markdown",
   "id": "e1017198",
   "metadata": {},
   "source": [
    "# COMPOSITION OVER TIME"
   ]
  },
  {
   "cell_type": "code",
   "execution_count": 120,
   "id": "e56eedf4",
   "metadata": {},
   "outputs": [
    {
     "data": {
      "text/plain": [
       "total_production\n",
       "Brazil           float64\n",
       "rest_of_world    float64\n",
       "dtype: object"
      ]
     },
     "execution_count": 120,
     "metadata": {},
     "output_type": "execute_result"
    }
   ],
   "source": [
    "brazil_vs_others = (coffee_production\n",
    "                    .assign(rest_of_world = coffee_production\n",
    "                            .drop(\"Brazil\", axis=1).sum(axis=1))\n",
    "                    .loc[:, [\"Brazil\", \"rest_of_world\"]]\n",
    "                    .astype({\"Brazil\": \"float64\"}))\n",
    "\n",
    "\n",
    "brazil_vs_others.dtypes"
   ]
  },
  {
   "cell_type": "code",
   "execution_count": 125,
   "id": "013fdd81",
   "metadata": {},
   "outputs": [
    {
     "data": {
      "text/plain": [
       "<matplotlib.legend.Legend at 0x7fc4e00490d0>"
      ]
     },
     "execution_count": 125,
     "metadata": {},
     "output_type": "execute_result"
    },
    {
     "data": {
      "image/png": "[encoded data removed]",
      "text/plain": [
       "<Figure size 432x288 with 1 Axes>"
      ]
     },
     "metadata": {
      "needs_background": "light"
     },
     "output_type": "display_data"
    }
   ],
   "source": [
    "fig, ax = plt.subplots()\n",
    "\n",
    "ax.stackplot(\n",
    "    brazil_vs_others.index.astype(\"datetime64[ns]\"), \n",
    "    brazil_vs_others[\"Brazil\"], \n",
    "    brazil_vs_others[\"rest_of_world\"],\n",
    "    labels=[\"Brazil\", \"World Total\"]\n",
    ")\n",
    "\n",
    "\n",
    "fig.suptitle(\"Brazil's Share of Global Coffee Production 1990-2018\")\n",
    "ax.set_title(\"Brazil Increases share of Growing Market\")\n",
    "\n",
    "ax.set_ylabel(\"Production (60kg Bags)\", fontsize=14)\n",
    "\n",
    "\n",
    "ax.legend(loc=\"upper left\")"
   ]
  },
  {
   "cell_type": "markdown",
   "id": "4baf6751",
   "metadata": {},
   "source": [
    "## PRICE RELATIONSHIPS\n",
    "\n",
    "Next, create two scatterplots: One comparing Brazil Vs. Viet Nam Production and one comparing Brazil to Venezuela.\n",
    "\n"
   ]
  },
  {
   "cell_type": "code",
   "execution_count": 10,
   "id": "d23c5795",
   "metadata": {},
   "outputs": [
    {
     "data": {
      "text/plain": [
       "<matplotlib.collections.PathCollection at 0x7faec1f37a00>"
      ]
     },
     "execution_count": 10,
     "metadata": {},
     "output_type": "execute_result"
    },
    {
     "data": {
      "image/png": "[encoded data removed]",
      "text/plain": [
       "<Figure size 432x288 with 1 Axes>"
      ]
     },
     "metadata": {
      "needs_background": "light"
     },
     "output_type": "display_data"
    }
   ],
   "source": [
    "fig, ax = plt.subplots()\n",
    "\n",
    "ax.set_title(\"Venezuela Production Declines as Brazil Expands\")\n",
    "ax.set_ylabel(\"Venezuela Production (Millions 60kg Bags)\", fontsize=10)\n",
    "ax.set_xlabel(\"Brazil Production (Millions 60kg Bags)\", fontsize=10)\n",
    "\n",
    "ax.scatter(coffee_production[\"Brazil\"], coffee_production[\"Venezuela\"])"
   ]
  },
  {
   "cell_type": "code",
   "execution_count": 77,
   "id": "e4943d12",
   "metadata": {},
   "outputs": [
    {
     "data": {
      "text/html": [
       "<div>\n",
       "<style scoped>\n",
       "    .dataframe tbody tr th:only-of-type {\n",
       "        vertical-align: middle;\n",
       "    }\n",
       "\n",
       "    .dataframe tbody tr th {\n",
       "        vertical-align: top;\n",
       "    }\n",
       "\n",
       "    .dataframe thead th {\n",
       "        text-align: right;\n",
       "    }\n",
       "</style>\n",
       "<table border=\"1\" class=\"dataframe\">\n",
       "  <thead>\n",
       "    <tr style=\"text-align: right;\">\n",
       "      <th>total_production</th>\n",
       "      <th>Brazil</th>\n",
       "      <th>rest_of_world</th>\n",
       "    </tr>\n",
       "  </thead>\n",
       "  <tbody>\n",
       "    <tr>\n",
       "      <th>1990</th>\n",
       "      <td>27285.6286</td>\n",
       "      <td>65944.431</td>\n",
       "    </tr>\n",
       "    <tr>\n",
       "      <th>1991</th>\n",
       "      <td>27293.4934</td>\n",
       "      <td>73973.191</td>\n",
       "    </tr>\n",
       "    <tr>\n",
       "      <th>1992</th>\n",
       "      <td>34603.3542</td>\n",
       "      <td>63922.545</td>\n",
       "    </tr>\n",
       "    <tr>\n",
       "      <th>1993</th>\n",
       "      <td>28166.9786</td>\n",
       "      <td>63597.643</td>\n",
       "    </tr>\n",
       "    <tr>\n",
       "      <th>1994</th>\n",
       "      <td>28192.0470</td>\n",
       "      <td>65121.147</td>\n",
       "    </tr>\n",
       "  </tbody>\n",
       "</table>\n",
       "</div>"
      ],
      "text/plain": [
       "total_production      Brazil  rest_of_world\n",
       "1990              27285.6286      65944.431\n",
       "1991              27293.4934      73973.191\n",
       "1992              34603.3542      63922.545\n",
       "1993              28166.9786      63597.643\n",
       "1994              28192.0470      65121.147"
      ]
     },
     "execution_count": 77,
     "metadata": {},
     "output_type": "execute_result"
    }
   ],
   "source": [
    "brazil_vs_others.head()"
   ]
  },
  {
   "cell_type": "code",
   "execution_count": 12,
   "id": "9cf7a63b",
   "metadata": {
    "scrolled": true
   },
   "outputs": [
    {
     "data": {
      "text/plain": [
       "<matplotlib.collections.PathCollection at 0x7faec20b6610>"
      ]
     },
     "execution_count": 12,
     "metadata": {},
     "output_type": "execute_result"
    },
    {
     "data": {
      "image/png": "[encoded data removed]",
      "text/plain": [
       "<Figure size 432x288 with 1 Axes>"
      ]
     },
     "metadata": {
      "needs_background": "light"
     },
     "output_type": "display_data"
    }
   ],
   "source": [
    "fig, ax = plt.subplots()\n",
    "\n",
    "ax.set_title(\"Vietnam and Brazil Production Trend Up Together\")\n",
    "ax.set_ylabel(\"Vietnam Production (Millions 60kg Bags)\", fontsize=10)\n",
    "ax.set_xlabel(\"Brazil Production (Millions 60kg Bags)\", fontsize=10)\n",
    "\n",
    "ax.scatter(coffee_production[\"Brazil\"], \n",
    "           coffee_production[\"Viet Nam\"], \n",
    "           #c=coffee_production.index\n",
    "          )"
   ]
  },
  {
   "cell_type": "code",
   "execution_count": 112,
   "id": "aca54d83",
   "metadata": {},
   "outputs": [
    {
     "data": {
      "text/html": [
       "<div>\n",
       "<style scoped>\n",
       "    .dataframe tbody tr th:only-of-type {\n",
       "        vertical-align: middle;\n",
       "    }\n",
       "\n",
       "    .dataframe tbody tr th {\n",
       "        vertical-align: top;\n",
       "    }\n",
       "\n",
       "    .dataframe thead th {\n",
       "        text-align: right;\n",
       "    }\n",
       "</style>\n",
       "<table border=\"1\" class=\"dataframe\">\n",
       "  <thead>\n",
       "    <tr style=\"text-align: right;\">\n",
       "      <th>total_production</th>\n",
       "      <th>Brazil</th>\n",
       "      <th>rest_of_world</th>\n",
       "    </tr>\n",
       "  </thead>\n",
       "  <tbody>\n",
       "    <tr>\n",
       "      <th>1990</th>\n",
       "      <td>27285.6286</td>\n",
       "      <td>65944.431</td>\n",
       "    </tr>\n",
       "    <tr>\n",
       "      <th>1991</th>\n",
       "      <td>27293.4934</td>\n",
       "      <td>73973.191</td>\n",
       "    </tr>\n",
       "    <tr>\n",
       "      <th>1992</th>\n",
       "      <td>34603.3542</td>\n",
       "      <td>63922.545</td>\n",
       "    </tr>\n",
       "    <tr>\n",
       "      <th>1993</th>\n",
       "      <td>28166.9786</td>\n",
       "      <td>63597.643</td>\n",
       "    </tr>\n",
       "    <tr>\n",
       "      <th>1994</th>\n",
       "      <td>28192.0470</td>\n",
       "      <td>65121.147</td>\n",
       "    </tr>\n",
       "  </tbody>\n",
       "</table>\n",
       "</div>"
      ],
      "text/plain": [
       "total_production      Brazil  rest_of_world\n",
       "1990              27285.6286      65944.431\n",
       "1991              27293.4934      73973.191\n",
       "1992              34603.3542      63922.545\n",
       "1993              28166.9786      63597.643\n",
       "1994              28192.0470      65121.147"
      ]
     },
     "execution_count": 112,
     "metadata": {},
     "output_type": "execute_result"
    }
   ],
   "source": [
    "brazil_vs_others.head()"
   ]
  },
  {
   "cell_type": "code",
   "execution_count": 151,
   "id": "0daf7eb3",
   "metadata": {},
   "outputs": [
    {
     "data": {
      "text/html": [
       "<div>\n",
       "<style scoped>\n",
       "    .dataframe tbody tr th:only-of-type {\n",
       "        vertical-align: middle;\n",
       "    }\n",
       "\n",
       "    .dataframe tbody tr th {\n",
       "        vertical-align: top;\n",
       "    }\n",
       "\n",
       "    .dataframe thead th {\n",
       "        text-align: right;\n",
       "    }\n",
       "</style>\n",
       "<table border=\"1\" class=\"dataframe\">\n",
       "  <thead>\n",
       "    <tr style=\"text-align: right;\">\n",
       "      <th>total_production</th>\n",
       "      <th>Angola</th>\n",
       "      <th>Bolivia (Plurinational State of)</th>\n",
       "      <th>Brazil</th>\n",
       "      <th>Burundi</th>\n",
       "      <th>Ecuador</th>\n",
       "      <th>Indonesia</th>\n",
       "      <th>Madagascar</th>\n",
       "      <th>Malawi</th>\n",
       "      <th>Papua New Guinea</th>\n",
       "      <th>Paraguay</th>\n",
       "      <th>...</th>\n",
       "      <th>Sierra Leone</th>\n",
       "      <th>Sri Lanka</th>\n",
       "      <th>Thailand</th>\n",
       "      <th>Togo</th>\n",
       "      <th>Trinidad &amp; Tobago</th>\n",
       "      <th>Uganda</th>\n",
       "      <th>Venezuela</th>\n",
       "      <th>Viet Nam</th>\n",
       "      <th>Yemen</th>\n",
       "      <th>World ex-Brazil</th>\n",
       "    </tr>\n",
       "  </thead>\n",
       "  <tbody>\n",
       "    <tr>\n",
       "      <th>1990</th>\n",
       "      <td>50.345</td>\n",
       "      <td>122.777</td>\n",
       "      <td>27285.6286</td>\n",
       "      <td>487.393</td>\n",
       "      <td>1503.815</td>\n",
       "      <td>7441.383</td>\n",
       "      <td>982.447</td>\n",
       "      <td>104.628</td>\n",
       "      <td>962.841</td>\n",
       "      <td>130.627</td>\n",
       "      <td>...</td>\n",
       "      <td>42.783</td>\n",
       "      <td>95.87</td>\n",
       "      <td>757.017</td>\n",
       "      <td>161.308</td>\n",
       "      <td>14.581</td>\n",
       "      <td>1955.009</td>\n",
       "      <td>1122.477</td>\n",
       "      <td>1310.288</td>\n",
       "      <td>0.0</td>\n",
       "      <td>567442.757</td>\n",
       "    </tr>\n",
       "    <tr>\n",
       "      <th>1991</th>\n",
       "      <td>79.331</td>\n",
       "      <td>103.536</td>\n",
       "      <td>27293.4934</td>\n",
       "      <td>667.199</td>\n",
       "      <td>2123.824</td>\n",
       "      <td>8493.196</td>\n",
       "      <td>932.513</td>\n",
       "      <td>124.286</td>\n",
       "      <td>746.816</td>\n",
       "      <td>79.653</td>\n",
       "      <td>...</td>\n",
       "      <td>54.379</td>\n",
       "      <td>81.549</td>\n",
       "      <td>1468.936</td>\n",
       "      <td>432.652</td>\n",
       "      <td>17.792</td>\n",
       "      <td>2088.001</td>\n",
       "      <td>940.704</td>\n",
       "      <td>1437.848</td>\n",
       "      <td>0.0</td>\n",
       "      <td>634922.614</td>\n",
       "    </tr>\n",
       "    <tr>\n",
       "      <th>1992</th>\n",
       "      <td>77.52</td>\n",
       "      <td>120.235</td>\n",
       "      <td>34603.3542</td>\n",
       "      <td>620.238</td>\n",
       "      <td>1185.48</td>\n",
       "      <td>5569.478</td>\n",
       "      <td>1121.684</td>\n",
       "      <td>137.161</td>\n",
       "      <td>900.111</td>\n",
       "      <td>54.291</td>\n",
       "      <td>...</td>\n",
       "      <td>39.084</td>\n",
       "      <td>53.181</td>\n",
       "      <td>1254.945</td>\n",
       "      <td>85.648</td>\n",
       "      <td>14.328</td>\n",
       "      <td>2185.074</td>\n",
       "      <td>1215.298</td>\n",
       "      <td>2340.447</td>\n",
       "      <td>0.0</td>\n",
       "      <td>550620.931</td>\n",
       "    </tr>\n",
       "    <tr>\n",
       "      <th>1993</th>\n",
       "      <td>32.608</td>\n",
       "      <td>50.823</td>\n",
       "      <td>28166.9786</td>\n",
       "      <td>393.354</td>\n",
       "      <td>2069.007</td>\n",
       "      <td>6743.288</td>\n",
       "      <td>441.859</td>\n",
       "      <td>62.111</td>\n",
       "      <td>1019.481</td>\n",
       "      <td>70.046</td>\n",
       "      <td>...</td>\n",
       "      <td>37.451</td>\n",
       "      <td>53.79</td>\n",
       "      <td>1275.201</td>\n",
       "      <td>194.939</td>\n",
       "      <td>16.079</td>\n",
       "      <td>3141.706</td>\n",
       "      <td>1332.881</td>\n",
       "      <td>3020.216</td>\n",
       "      <td>0.0</td>\n",
       "      <td>548225.857</td>\n",
       "    </tr>\n",
       "    <tr>\n",
       "      <th>1994</th>\n",
       "      <td>76.802</td>\n",
       "      <td>116.944</td>\n",
       "      <td>28192.047</td>\n",
       "      <td>664.143</td>\n",
       "      <td>2375.766</td>\n",
       "      <td>5367.878</td>\n",
       "      <td>641.372</td>\n",
       "      <td>84.112</td>\n",
       "      <td>1138.659</td>\n",
       "      <td>24.689</td>\n",
       "      <td>...</td>\n",
       "      <td>72.738</td>\n",
       "      <td>42.448</td>\n",
       "      <td>1399.135</td>\n",
       "      <td>176.296</td>\n",
       "      <td>18.435</td>\n",
       "      <td>2392.753</td>\n",
       "      <td>988.996</td>\n",
       "      <td>3631.609</td>\n",
       "      <td>0.0</td>\n",
       "      <td>561364.106</td>\n",
       "    </tr>\n",
       "  </tbody>\n",
       "</table>\n",
       "<p>5 rows × 57 columns</p>\n",
       "</div>"
      ],
      "text/plain": [
       "total_production  Angola Bolivia (Plurinational State of)      Brazil  \\\n",
       "1990              50.345                          122.777  27285.6286   \n",
       "1991              79.331                          103.536  27293.4934   \n",
       "1992               77.52                          120.235  34603.3542   \n",
       "1993              32.608                           50.823  28166.9786   \n",
       "1994              76.802                          116.944   28192.047   \n",
       "\n",
       "total_production  Burundi   Ecuador Indonesia Madagascar   Malawi  \\\n",
       "1990              487.393  1503.815  7441.383    982.447  104.628   \n",
       "1991              667.199  2123.824  8493.196    932.513  124.286   \n",
       "1992              620.238   1185.48  5569.478   1121.684  137.161   \n",
       "1993              393.354  2069.007  6743.288    441.859   62.111   \n",
       "1994              664.143  2375.766  5367.878    641.372   84.112   \n",
       "\n",
       "total_production Papua New Guinea Paraguay  ... Sierra Leone Sri Lanka  \\\n",
       "1990                      962.841  130.627  ...       42.783     95.87   \n",
       "1991                      746.816   79.653  ...       54.379    81.549   \n",
       "1992                      900.111   54.291  ...       39.084    53.181   \n",
       "1993                     1019.481   70.046  ...       37.451     53.79   \n",
       "1994                     1138.659   24.689  ...       72.738    42.448   \n",
       "\n",
       "total_production  Thailand     Togo Trinidad & Tobago    Uganda Venezuela  \\\n",
       "1990               757.017  161.308            14.581  1955.009  1122.477   \n",
       "1991              1468.936  432.652            17.792  2088.001   940.704   \n",
       "1992              1254.945   85.648            14.328  2185.074  1215.298   \n",
       "1993              1275.201  194.939            16.079  3141.706  1332.881   \n",
       "1994              1399.135  176.296            18.435  2392.753   988.996   \n",
       "\n",
       "total_production  Viet Nam Yemen World ex-Brazil  \n",
       "1990              1310.288   0.0      567442.757  \n",
       "1991              1437.848   0.0      634922.614  \n",
       "1992              2340.447   0.0      550620.931  \n",
       "1993              3020.216   0.0      548225.857  \n",
       "1994              3631.609   0.0      561364.106  \n",
       "\n",
       "[5 rows x 57 columns]"
      ]
     },
     "execution_count": 151,
     "metadata": {},
     "output_type": "execute_result"
    }
   ],
   "source": [
    "coffee_production.head()"
   ]
  },
  {
   "cell_type": "markdown",
   "id": "fcead46a",
   "metadata": {},
   "source": [
    "# COMPOSITION OF COFFEE PRODUCTION\n",
    "\n",
    "* Create a Pie chart with the top 5 producers, as well as the sum for the rest of countries.\n",
    "\n",
    "* Finally, create two donut charts, one representing Brazil's share of global production in 1990, and one for Brazil's share in 2018."
   ]
  },
  {
   "cell_type": "code",
   "execution_count": 17,
   "id": "b48e62c8",
   "metadata": {},
   "outputs": [
    {
     "data": {
      "text/plain": [
       "total_production\n",
       "Brazil           62924.8836\n",
       "Viet Nam         31174.0742\n",
       "Colombia          13857.962\n",
       "Indonesia         9417.5942\n",
       "Ethiopia          7776.2234\n",
       "Rest of World    45786.0003\n",
       "Name: 2018, dtype: object"
      ]
     },
     "execution_count": 17,
     "metadata": {},
     "output_type": "execute_result"
    }
   ],
   "source": [
    "coffee_production[\"Rest of World\"] = coffee_production.drop([\"Brazil\", \n",
    "                                                             \"Viet Nam\", \n",
    "                                                             \"Colombia\", \n",
    "                                                             \"Indonesia\",\n",
    "                                                             \"Ethiopia\",], axis=1).sum(axis=1)\n",
    "\n",
    "coffee_production_top5_2018 = coffee_production.loc['2018', [\"Brazil\", \n",
    "                                                             \"Viet Nam\", \n",
    "                                                             \"Colombia\", \n",
    "                                                             \"Indonesia\",\n",
    "                                                             \"Ethiopia\",\n",
    "                                                             \"Rest of World\"\n",
    "                                                            ]\n",
    "                                                   ]\n",
    "\n",
    "coffee_production_top5_2018"
   ]
  },
  {
   "cell_type": "code",
   "execution_count": 18,
   "id": "bb1954ec",
   "metadata": {},
   "outputs": [
    {
     "data": {
      "text/plain": [
       "Text(0.5, 0.98, 'Share of Global Coffee Production 2018')"
      ]
     },
     "execution_count": 18,
     "metadata": {},
     "output_type": "execute_result"
    },
    {
     "data": {
      "image/png": "[encoded data removed]",
      "text/plain": [
       "<Figure size 432x288 with 1 Axes>"
      ]
     },
     "metadata": {},
     "output_type": "display_data"
    }
   ],
   "source": [
    "fig, ax = plt.subplots()\n",
    "\n",
    "ax.pie(coffee_production_top5_2018[::-1],\n",
    "       autopct=\"%.0f%%\",\n",
    "       labels=list(coffee_production_top5_2018.index[::-1]),\n",
    "       startangle=90)\n",
    "\n",
    "fig.suptitle(\"Share of Global Coffee Production 2018\")"
   ]
  },
  {
   "cell_type": "code",
   "execution_count": 23,
   "id": "4cf4278f",
   "metadata": {},
   "outputs": [
    {
     "data": {
      "text/plain": [
       "total_production\n",
       "Brazil           float64\n",
       "rest_of_world    float64\n",
       "dtype: object"
      ]
     },
     "execution_count": 23,
     "metadata": {},
     "output_type": "execute_result"
    }
   ],
   "source": [
    "brazil_vs_others = (coffee_production\n",
    "                    .assign(rest_of_world = coffee_production\n",
    "                            .drop(\"Brazil\", axis=1).sum(axis=1))\n",
    "                    .loc[:, [\"Brazil\", \"rest_of_world\"]]\n",
    "                    .astype({\"Brazil\": \"float64\"}))\n",
    "\n",
    "\n",
    "brazil_vs_others.dtypes"
   ]
  },
  {
   "cell_type": "code",
   "execution_count": 24,
   "id": "5f2e45a9",
   "metadata": {},
   "outputs": [
    {
     "data": {
      "image/png": "[encoded data removed]",
      "text/plain": [
       "<Figure size 432x288 with 1 Axes>"
      ]
     },
     "metadata": {},
     "output_type": "display_data"
    }
   ],
   "source": [
    "fig, ax = plt.subplots()\n",
    "\n",
    "ax.pie(\n",
    "    brazil_vs_others.iloc[0].sort_values(ascending=False),\n",
    "    startangle=90,\n",
    "    labels = [\"\", \"\"],\n",
    "    #autopct='%.0f%%',\n",
    "    pctdistance=.85,\n",
    "    colors=[\"White\", \"Blue\"]\n",
    ")\n",
    "\n",
    "center_circle = plt.Circle((0, 0), 0.70, fc='white')\n",
    "fig = plt.gcf()\n",
    "  \n",
    "# Adding Circle in Pie chart\n",
    "fig.gca().add_artist(center_circle)\n",
    "\n",
    "plt.text(\n",
    "    0, \n",
    "    0, \n",
    "    f\"{round((brazil_vs_others.loc['1990', 'Brazil'] / brazil_vs_others.loc['1990'].sum()*100))}%\", \n",
    "    ha='center', \n",
    "    va='center', \n",
    "    fontsize=42\n",
    ")\n",
    "  \n",
    "\n",
    "ax.set_title(\"Brazil Share of Global Production 1990\", fontsize=14)\n",
    "\n",
    "plt.show()"
   ]
  },
  {
   "cell_type": "code",
   "execution_count": 25,
   "id": "dab6f70b",
   "metadata": {},
   "outputs": [
    {
     "data": {
      "image/png": "[encoded data removed]",
      "text/plain": [
       "<Figure size 432x288 with 1 Axes>"
      ]
     },
     "metadata": {},
     "output_type": "display_data"
    }
   ],
   "source": [
    "ig, ax = plt.subplots()\n",
    "\n",
    "ax.pie(\n",
    "    brazil_vs_others.iloc[0].sort_values(ascending=False),\n",
    "    startangle=90,\n",
    "    labels = [\"\", \"\"],\n",
    "    #autopct='%.0f%%',\n",
    "    pctdistance=.85,\n",
    "    colors=[\"White\", \"Blue\"]\n",
    ")\n",
    "\n",
    "center_circle = plt.Circle((0, 0), 0.70, fc='white')\n",
    "fig = plt.gcf()\n",
    "  \n",
    "# Adding Circle in Pie chart\n",
    "fig.gca().add_artist(center_circle)\n",
    "\n",
    "plt.text(\n",
    "    0, \n",
    "    0, \n",
    "    f\"{round((brazil_vs_others.loc['2018', 'Brazil'] / brazil_vs_others.loc['2018'].sum()*100))}%\", \n",
    "    ha='center', \n",
    "    va='center', \n",
    "    fontsize=42\n",
    ")\n",
    "  \n",
    "\n",
    "ax.set_title(\"Brazil Share of Global Production 2018\", fontsize=14)\n",
    "\n",
    "plt.show()"
   ]
  },
  {
   "cell_type": "markdown",
   "id": "615a5cf0",
   "metadata": {},
   "source": [
    "# Coffee Consumption Vs. Prices\n",
    "\n",
    "Compare coffee prices with coffee consumption in the following countries. \n",
    "\n",
    "Is there a relationship between coffee consumption and the price these countries pay?\n",
    "\n",
    "Plot a dual axis bar chart of price vs consumption totals for these countries."
   ]
  },
  {
   "cell_type": "code",
   "execution_count": 3,
   "id": "3f3105ed",
   "metadata": {},
   "outputs": [
    {
     "data": {
      "text/html": [
       "<div>\n",
       "<style scoped>\n",
       "    .dataframe tbody tr th:only-of-type {\n",
       "        vertical-align: middle;\n",
       "    }\n",
       "\n",
       "    .dataframe tbody tr th {\n",
       "        vertical-align: top;\n",
       "    }\n",
       "\n",
       "    .dataframe thead th {\n",
       "        text-align: right;\n",
       "    }\n",
       "</style>\n",
       "<table border=\"1\" class=\"dataframe\">\n",
       "  <thead>\n",
       "    <tr style=\"text-align: right;\">\n",
       "      <th></th>\n",
       "      <th>imports</th>\n",
       "      <th>1990</th>\n",
       "      <th>1991</th>\n",
       "      <th>1992</th>\n",
       "      <th>1993</th>\n",
       "      <th>1994</th>\n",
       "      <th>1995</th>\n",
       "      <th>1996</th>\n",
       "      <th>1997</th>\n",
       "      <th>1998</th>\n",
       "      <th>...</th>\n",
       "      <th>2009</th>\n",
       "      <th>2010</th>\n",
       "      <th>2011</th>\n",
       "      <th>2012</th>\n",
       "      <th>2013</th>\n",
       "      <th>2014</th>\n",
       "      <th>2015</th>\n",
       "      <th>2016</th>\n",
       "      <th>2017</th>\n",
       "      <th>2018</th>\n",
       "    </tr>\n",
       "  </thead>\n",
       "  <tbody>\n",
       "    <tr>\n",
       "      <th>0</th>\n",
       "      <td>Austria</td>\n",
       "      <td>1880.0</td>\n",
       "      <td>2058.0</td>\n",
       "      <td>2206.0</td>\n",
       "      <td>1836.0</td>\n",
       "      <td>1417.0</td>\n",
       "      <td>1231.0</td>\n",
       "      <td>1210.0</td>\n",
       "      <td>1294.0</td>\n",
       "      <td>1293.0</td>\n",
       "      <td>...</td>\n",
       "      <td>1309.0</td>\n",
       "      <td>1369.0</td>\n",
       "      <td>1452.0</td>\n",
       "      <td>1559.0</td>\n",
       "      <td>1555.0</td>\n",
       "      <td>NaN</td>\n",
       "      <td>NaN</td>\n",
       "      <td>NaN</td>\n",
       "      <td>NaN</td>\n",
       "      <td>NaN</td>\n",
       "    </tr>\n",
       "    <tr>\n",
       "      <th>1</th>\n",
       "      <td>Belgium</td>\n",
       "      <td>NaN</td>\n",
       "      <td>NaN</td>\n",
       "      <td>NaN</td>\n",
       "      <td>NaN</td>\n",
       "      <td>NaN</td>\n",
       "      <td>NaN</td>\n",
       "      <td>NaN</td>\n",
       "      <td>NaN</td>\n",
       "      <td>NaN</td>\n",
       "      <td>...</td>\n",
       "      <td>5916.0</td>\n",
       "      <td>5924.0</td>\n",
       "      <td>5828.0</td>\n",
       "      <td>5668.0</td>\n",
       "      <td>5502.0</td>\n",
       "      <td>NaN</td>\n",
       "      <td>NaN</td>\n",
       "      <td>NaN</td>\n",
       "      <td>NaN</td>\n",
       "      <td>NaN</td>\n",
       "    </tr>\n",
       "    <tr>\n",
       "      <th>2</th>\n",
       "      <td>Belgium/Luxembourg</td>\n",
       "      <td>2015.0</td>\n",
       "      <td>1746.0</td>\n",
       "      <td>1828.0</td>\n",
       "      <td>2063.0</td>\n",
       "      <td>2262.0</td>\n",
       "      <td>2401.0</td>\n",
       "      <td>2526.0</td>\n",
       "      <td>2544.0</td>\n",
       "      <td>3580.0</td>\n",
       "      <td>...</td>\n",
       "      <td>NaN</td>\n",
       "      <td>NaN</td>\n",
       "      <td>NaN</td>\n",
       "      <td>NaN</td>\n",
       "      <td>NaN</td>\n",
       "      <td>NaN</td>\n",
       "      <td>NaN</td>\n",
       "      <td>NaN</td>\n",
       "      <td>NaN</td>\n",
       "      <td>NaN</td>\n",
       "    </tr>\n",
       "    <tr>\n",
       "      <th>3</th>\n",
       "      <td>Bulgaria</td>\n",
       "      <td>268.0</td>\n",
       "      <td>200.0</td>\n",
       "      <td>182.0</td>\n",
       "      <td>397.0</td>\n",
       "      <td>463.0</td>\n",
       "      <td>515.0</td>\n",
       "      <td>272.0</td>\n",
       "      <td>294.0</td>\n",
       "      <td>342.0</td>\n",
       "      <td>...</td>\n",
       "      <td>523.0</td>\n",
       "      <td>528.0</td>\n",
       "      <td>482.0</td>\n",
       "      <td>560.0</td>\n",
       "      <td>609.0</td>\n",
       "      <td>NaN</td>\n",
       "      <td>NaN</td>\n",
       "      <td>NaN</td>\n",
       "      <td>NaN</td>\n",
       "      <td>NaN</td>\n",
       "    </tr>\n",
       "    <tr>\n",
       "      <th>4</th>\n",
       "      <td>Croatia</td>\n",
       "      <td>NaN</td>\n",
       "      <td>NaN</td>\n",
       "      <td>168.0</td>\n",
       "      <td>163.0</td>\n",
       "      <td>193.0</td>\n",
       "      <td>320.0</td>\n",
       "      <td>322.0</td>\n",
       "      <td>385.0</td>\n",
       "      <td>339.0</td>\n",
       "      <td>...</td>\n",
       "      <td>394.0</td>\n",
       "      <td>394.0</td>\n",
       "      <td>391.0</td>\n",
       "      <td>384.0</td>\n",
       "      <td>413.0</td>\n",
       "      <td>NaN</td>\n",
       "      <td>NaN</td>\n",
       "      <td>NaN</td>\n",
       "      <td>NaN</td>\n",
       "      <td>NaN</td>\n",
       "    </tr>\n",
       "  </tbody>\n",
       "</table>\n",
       "<p>5 rows × 30 columns</p>\n",
       "</div>"
      ],
      "text/plain": [
       "                 imports    1990    1991    1992    1993    1994    1995  \\\n",
       "0                Austria  1880.0  2058.0  2206.0  1836.0  1417.0  1231.0   \n",
       "1                Belgium     NaN     NaN     NaN     NaN     NaN     NaN   \n",
       "2     Belgium/Luxembourg  2015.0  1746.0  1828.0  2063.0  2262.0  2401.0   \n",
       "3               Bulgaria   268.0   200.0   182.0   397.0   463.0   515.0   \n",
       "4                Croatia     NaN     NaN   168.0   163.0   193.0   320.0   \n",
       "\n",
       "     1996    1997    1998  ...    2009    2010    2011    2012    2013  2014  \\\n",
       "0  1210.0  1294.0  1293.0  ...  1309.0  1369.0  1452.0  1559.0  1555.0   NaN   \n",
       "1     NaN     NaN     NaN  ...  5916.0  5924.0  5828.0  5668.0  5502.0   NaN   \n",
       "2  2526.0  2544.0  3580.0  ...     NaN     NaN     NaN     NaN     NaN   NaN   \n",
       "3   272.0   294.0   342.0  ...   523.0   528.0   482.0   560.0   609.0   NaN   \n",
       "4   322.0   385.0   339.0  ...   394.0   394.0   391.0   384.0   413.0   NaN   \n",
       "\n",
       "   2015  2016  2017  2018  \n",
       "0   NaN   NaN   NaN   NaN  \n",
       "1   NaN   NaN   NaN   NaN  \n",
       "2   NaN   NaN   NaN   NaN  \n",
       "3   NaN   NaN   NaN   NaN  \n",
       "4   NaN   NaN   NaN   NaN  \n",
       "\n",
       "[5 rows x 30 columns]"
      ]
     },
     "execution_count": 3,
     "metadata": {},
     "output_type": "execute_result"
    }
   ],
   "source": [
    "imports = pd.read_csv(\"coffee/imports.csv\")\n",
    "\n",
    "imports.head()"
   ]
  },
  {
   "cell_type": "code",
   "execution_count": 15,
   "id": "f615adbb",
   "metadata": {},
   "outputs": [
    {
     "data": {
      "text/plain": [
       "imports\n",
       "   Austria               1551.083333\n",
       "   Belgium               4639.533333\n",
       "   Belgium/Luxembourg    2329.444444\n",
       "   Bulgaria               397.250000\n",
       "   Croatia                349.136364\n",
       "Name: imports, dtype: float64"
      ]
     },
     "execution_count": 15,
     "metadata": {},
     "output_type": "execute_result"
    }
   ],
   "source": [
    "consumption = pd.read_csv(\"coffee/imports.csv\").set_index(\"imports\").mean(axis=1)\n",
    "\n",
    "consumption.name = \"imports\"\n",
    "\n",
    "consumption.head()"
   ]
  },
  {
   "cell_type": "code",
   "execution_count": 16,
   "id": "4d7fddcc",
   "metadata": {},
   "outputs": [
    {
     "data": {
      "text/plain": [
       "retail_prices\n",
       "   Austria    11.571135\n",
       "   Cyprus     10.437695\n",
       "   Denmark    10.494025\n",
       "   Finland     7.211692\n",
       "   France      6.850879\n",
       "dtype: float64"
      ]
     },
     "execution_count": 16,
     "metadata": {},
     "output_type": "execute_result"
    }
   ],
   "source": [
    "prices = pd.read_csv(\"coffee/retail-prices.csv\").set_index(\"retail_prices\").mean(axis=1)\n",
    "\n",
    "\n",
    "prices.head()"
   ]
  },
  {
   "cell_type": "code",
   "execution_count": 37,
   "id": "5c6cd670",
   "metadata": {
    "scrolled": false
   },
   "outputs": [
    {
     "data": {
      "text/html": [
       "<div>\n",
       "<style scoped>\n",
       "    .dataframe tbody tr th:only-of-type {\n",
       "        vertical-align: middle;\n",
       "    }\n",
       "\n",
       "    .dataframe tbody tr th {\n",
       "        vertical-align: top;\n",
       "    }\n",
       "\n",
       "    .dataframe thead th {\n",
       "        text-align: right;\n",
       "    }\n",
       "</style>\n",
       "<table border=\"1\" class=\"dataframe\">\n",
       "  <thead>\n",
       "    <tr style=\"text-align: right;\">\n",
       "      <th></th>\n",
       "      <th>country</th>\n",
       "      <th>Price</th>\n",
       "      <th>Imports</th>\n",
       "    </tr>\n",
       "  </thead>\n",
       "  <tbody>\n",
       "    <tr>\n",
       "      <th>5</th>\n",
       "      <td>Germany</td>\n",
       "      <td>9.515110</td>\n",
       "      <td>16357.666667</td>\n",
       "    </tr>\n",
       "    <tr>\n",
       "      <th>11</th>\n",
       "      <td>Japan</td>\n",
       "      <td>21.472939</td>\n",
       "      <td>6862.275235</td>\n",
       "    </tr>\n",
       "    <tr>\n",
       "      <th>6</th>\n",
       "      <td>Italy</td>\n",
       "      <td>14.199589</td>\n",
       "      <td>6696.958333</td>\n",
       "    </tr>\n",
       "    <tr>\n",
       "      <th>4</th>\n",
       "      <td>France</td>\n",
       "      <td>6.850879</td>\n",
       "      <td>6512.458333</td>\n",
       "    </tr>\n",
       "    <tr>\n",
       "      <th>9</th>\n",
       "      <td>Spain</td>\n",
       "      <td>8.029992</td>\n",
       "      <td>4046.291667</td>\n",
       "    </tr>\n",
       "    <tr>\n",
       "      <th>7</th>\n",
       "      <td>Netherlands</td>\n",
       "      <td>8.931263</td>\n",
       "      <td>2928.125000</td>\n",
       "    </tr>\n",
       "    <tr>\n",
       "      <th>10</th>\n",
       "      <td>Sweden</td>\n",
       "      <td>8.054350</td>\n",
       "      <td>1620.625000</td>\n",
       "    </tr>\n",
       "    <tr>\n",
       "      <th>0</th>\n",
       "      <td>Austria</td>\n",
       "      <td>11.571135</td>\n",
       "      <td>1551.083333</td>\n",
       "    </tr>\n",
       "    <tr>\n",
       "      <th>3</th>\n",
       "      <td>Finland</td>\n",
       "      <td>7.211692</td>\n",
       "      <td>1157.541667</td>\n",
       "    </tr>\n",
       "    <tr>\n",
       "      <th>2</th>\n",
       "      <td>Denmark</td>\n",
       "      <td>10.494025</td>\n",
       "      <td>991.791667</td>\n",
       "    </tr>\n",
       "    <tr>\n",
       "      <th>8</th>\n",
       "      <td>Portugal</td>\n",
       "      <td>10.921063</td>\n",
       "      <td>810.791667</td>\n",
       "    </tr>\n",
       "    <tr>\n",
       "      <th>12</th>\n",
       "      <td>Norway</td>\n",
       "      <td>9.409302</td>\n",
       "      <td>739.770359</td>\n",
       "    </tr>\n",
       "    <tr>\n",
       "      <th>1</th>\n",
       "      <td>Cyprus</td>\n",
       "      <td>10.437695</td>\n",
       "      <td>63.791667</td>\n",
       "    </tr>\n",
       "  </tbody>\n",
       "</table>\n",
       "</div>"
      ],
      "text/plain": [
       "        country      Price       Imports\n",
       "5       Germany   9.515110  16357.666667\n",
       "11        Japan  21.472939   6862.275235\n",
       "6         Italy  14.199589   6696.958333\n",
       "4        France   6.850879   6512.458333\n",
       "9         Spain   8.029992   4046.291667\n",
       "7   Netherlands   8.931263   2928.125000\n",
       "10       Sweden   8.054350   1620.625000\n",
       "0       Austria  11.571135   1551.083333\n",
       "3       Finland   7.211692   1157.541667\n",
       "2       Denmark  10.494025    991.791667\n",
       "8      Portugal  10.921063    810.791667\n",
       "12       Norway   9.409302    739.770359\n",
       "1        Cyprus  10.437695     63.791667"
      ]
     },
     "execution_count": 37,
     "metadata": {},
     "output_type": "execute_result"
    }
   ],
   "source": [
    "\n",
    "price_cons = (pd.DataFrame(prices)\n",
    "              .merge(consumption, \n",
    "                    left_on=prices.index, \n",
    "                    right_on=consumption.index, \n",
    "                    how=\"inner\"\n",
    "            )\n",
    "           .sort_values([\"imports\"], ascending=False)\n",
    ")\n",
    "\n",
    "price_cons.columns= [\"country\", \"Price\", \"Imports\"]\n",
    "\n",
    "\n",
    "price_cons[\"country\"] = price_cons[\"country\"].str.strip(\" \")\n",
    "\n",
    "price_cons"
   ]
  },
  {
   "cell_type": "code",
   "execution_count": 48,
   "id": "96a8fa1f",
   "metadata": {},
   "outputs": [
    {
     "data": {
      "text/plain": [
       "<matplotlib.legend.Legend at 0x7fac380ef910>"
      ]
     },
     "execution_count": 48,
     "metadata": {},
     "output_type": "execute_result"
    },
    {
     "data": {
      "image/png": "[encoded data removed]",
      "text/plain": [
       "<Figure size 1080x864 with 2 Axes>"
      ]
     },
     "metadata": {
      "needs_background": "light"
     },
     "output_type": "display_data"
    }
   ],
   "source": [
    "fig, ax = plt.subplots(figsize=(15, 12))\n",
    "\n",
    "width=.35\n",
    "x=np.arange(0, len(price_cons[\"country\"]))\n",
    "\n",
    "bar1= ax.bar(x-width/2, price_cons[\"Imports\"], width=width)\n",
    "\n",
    "ax.set_title(\"Prices Paid Vs. Consumption of Select Importing Nations\", fontsize=20, fontweight='bold')\n",
    "ax.set_ylabel(\"Consumption (k 60kg bags)\", fontsize=12)\n",
    "\n",
    "\n",
    "ax2 = ax.twinx()\n",
    "bar2 = ax2.bar(x+width/2, price_cons[\"Price\"], width=width, color=\"orange\")\n",
    "ax2.set_ylabel(\"Average Price Paid Per Bag (USD)\", fontsize=12)\n",
    "\n",
    "\n",
    "plt.xticks(x, price_cons[\"country\"], fontsize=7)\n",
    "\n",
    "plt.legend([bar1, bar2], [\"Consumption\", \"Price\"])"
   ]
  }
 ],
 "metadata": {
  "kernelspec": {
   "display_name": "Python 3 (ipykernel)",
   "language": "python",
   "name": "python3"
  },
  "language_info": {
   "codemirror_mode": {
    "name": "ipython",
    "version": 3
   },
   "file_extension": ".py",
   "mimetype": "text/x-python",
   "name": "python",
   "nbconvert_exporter": "python",
   "pygments_lexer": "ipython3",
   "version": "3.9.7"
  }
 },
 "nbformat": 4,
 "nbformat_minor": 5
}
