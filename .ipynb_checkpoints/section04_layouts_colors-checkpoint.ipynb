{
 "cells": [
  {
   "cell_type": "code",
   "execution_count": 1,
   "id": "9a84a60b",
   "metadata": {},
   "outputs": [],
   "source": [
    "import pandas as pd\n",
    "import numpy as np\n",
    "\n",
    "import matplotlib.pyplot as plt\n",
    "import seaborn as sns"
   ]
  },
  {
   "cell_type": "code",
   "execution_count": 2,
   "id": "8e8cd616",
   "metadata": {},
   "outputs": [],
   "source": [
    "housing_raw = pd.read_csv(\"housing_prices.tsv000\", \n",
    "                      sep=\"\\t\", \n",
    "                      parse_dates=[\"period_begin\", \"period_end\"],\n",
    "                      # dtype=({\"total_homes_sold\": \"Int32\"}),\n",
    "                      usecols=[\"period_begin\", \n",
    "                               \"period_end\", \n",
    "                               \"region_type\",\n",
    "                               \"region_name\", \n",
    "                               \"active_listings\",\n",
    "                               \"duration\", \n",
    "                               \"months_of_supply\",\n",
    "                               \"total_homes_sold\", \n",
    "                               \"median_active_list_price\",\n",
    "                               \"inventory\",\n",
    "                               \"age_of_inventory\"\n",
    "                              ]\n",
    ")"
   ]
  },
  {
   "cell_type": "code",
   "execution_count": 3,
   "id": "5e741b7c",
   "metadata": {},
   "outputs": [
    {
     "data": {
      "text/html": [
       "<div>\n",
       "<style scoped>\n",
       "    .dataframe tbody tr th:only-of-type {\n",
       "        vertical-align: middle;\n",
       "    }\n",
       "\n",
       "    .dataframe tbody tr th {\n",
       "        vertical-align: top;\n",
       "    }\n",
       "\n",
       "    .dataframe thead th {\n",
       "        text-align: right;\n",
       "    }\n",
       "</style>\n",
       "<table border=\"1\" class=\"dataframe\">\n",
       "  <thead>\n",
       "    <tr style=\"text-align: right;\">\n",
       "      <th></th>\n",
       "      <th>region_name</th>\n",
       "      <th>region_type</th>\n",
       "      <th>period_begin</th>\n",
       "      <th>period_end</th>\n",
       "      <th>duration</th>\n",
       "      <th>total_homes_sold</th>\n",
       "      <th>inventory</th>\n",
       "      <th>active_listings</th>\n",
       "      <th>age_of_inventory</th>\n",
       "      <th>median_active_list_price</th>\n",
       "      <th>months_of_supply</th>\n",
       "    </tr>\n",
       "  </thead>\n",
       "  <tbody>\n",
       "    <tr>\n",
       "      <th>0</th>\n",
       "      <td>Woodford County, KY</td>\n",
       "      <td>county</td>\n",
       "      <td>2018-05-28</td>\n",
       "      <td>2018-06-24</td>\n",
       "      <td>4 weeks</td>\n",
       "      <td>34.0</td>\n",
       "      <td>57.0</td>\n",
       "      <td>65.0</td>\n",
       "      <td>38.8</td>\n",
       "      <td>300495.8</td>\n",
       "      <td>9.644643</td>\n",
       "    </tr>\n",
       "    <tr>\n",
       "      <th>1</th>\n",
       "      <td>Corning, NY metro area</td>\n",
       "      <td>metro</td>\n",
       "      <td>2020-07-27</td>\n",
       "      <td>2020-08-23</td>\n",
       "      <td>4 weeks</td>\n",
       "      <td>35.0</td>\n",
       "      <td>225.0</td>\n",
       "      <td>235.0</td>\n",
       "      <td>67.6</td>\n",
       "      <td>126150.0</td>\n",
       "      <td>29.927083</td>\n",
       "    </tr>\n",
       "    <tr>\n",
       "      <th>2</th>\n",
       "      <td>Bee County, TX</td>\n",
       "      <td>county</td>\n",
       "      <td>2019-09-09</td>\n",
       "      <td>2019-10-06</td>\n",
       "      <td>4 weeks</td>\n",
       "      <td>NaN</td>\n",
       "      <td>1.0</td>\n",
       "      <td>1.0</td>\n",
       "      <td>132.5</td>\n",
       "      <td>NaN</td>\n",
       "      <td>NaN</td>\n",
       "    </tr>\n",
       "    <tr>\n",
       "      <th>3</th>\n",
       "      <td>Grants Pass, OR metro area</td>\n",
       "      <td>metro</td>\n",
       "      <td>2017-04-17</td>\n",
       "      <td>2017-05-14</td>\n",
       "      <td>4 weeks</td>\n",
       "      <td>106.0</td>\n",
       "      <td>420.0</td>\n",
       "      <td>441.0</td>\n",
       "      <td>57.3</td>\n",
       "      <td>313187.5</td>\n",
       "      <td>17.834675</td>\n",
       "    </tr>\n",
       "    <tr>\n",
       "      <th>4</th>\n",
       "      <td>Grants Pass, OR metro area</td>\n",
       "      <td>metro</td>\n",
       "      <td>2021-03-22</td>\n",
       "      <td>2021-04-18</td>\n",
       "      <td>4 weeks</td>\n",
       "      <td>91.0</td>\n",
       "      <td>106.0</td>\n",
       "      <td>133.0</td>\n",
       "      <td>31.7</td>\n",
       "      <td>423737.5</td>\n",
       "      <td>6.042729</td>\n",
       "    </tr>\n",
       "  </tbody>\n",
       "</table>\n",
       "</div>"
      ],
      "text/plain": [
       "                  region_name region_type period_begin period_end duration  \\\n",
       "0         Woodford County, KY      county   2018-05-28 2018-06-24  4 weeks   \n",
       "1      Corning, NY metro area       metro   2020-07-27 2020-08-23  4 weeks   \n",
       "2              Bee County, TX      county   2019-09-09 2019-10-06  4 weeks   \n",
       "3  Grants Pass, OR metro area       metro   2017-04-17 2017-05-14  4 weeks   \n",
       "4  Grants Pass, OR metro area       metro   2021-03-22 2021-04-18  4 weeks   \n",
       "\n",
       "   total_homes_sold  inventory  active_listings  age_of_inventory  \\\n",
       "0              34.0       57.0             65.0              38.8   \n",
       "1              35.0      225.0            235.0              67.6   \n",
       "2               NaN        1.0              1.0             132.5   \n",
       "3             106.0      420.0            441.0              57.3   \n",
       "4              91.0      106.0            133.0              31.7   \n",
       "\n",
       "   median_active_list_price  months_of_supply  \n",
       "0                  300495.8          9.644643  \n",
       "1                  126150.0         29.927083  \n",
       "2                       NaN               NaN  \n",
       "3                  313187.5         17.834675  \n",
       "4                  423737.5          6.042729  "
      ]
     },
     "execution_count": 3,
     "metadata": {},
     "output_type": "execute_result"
    }
   ],
   "source": [
    "housing_raw.head()"
   ]
  },
  {
   "cell_type": "code",
   "execution_count": 4,
   "id": "72799b89",
   "metadata": {},
   "outputs": [],
   "source": [
    "ca_housing = housing_raw.loc[\n",
    "    (housing_raw[\"region_name\"].str.contains(\"CA\"))\n",
    "    & (housing_raw[\"duration\"] == \"4 weeks\")\n",
    "    & (housing_raw[\"region_type\"] == \"county\")\n",
    "].assign(region_name = housing_raw[\"region_name\"].str[0:-11]).query(\"region_name in ['San Francisco', 'Los Angeles', 'San Diego', 'Tulare']\")"
   ]
  },
  {
   "cell_type": "code",
   "execution_count": 5,
   "id": "545b8ff0",
   "metadata": {
    "scrolled": true
   },
   "outputs": [],
   "source": [
    "ca_housing_pivot = ca_housing.pivot_table(index=\"period_begin\",\n",
    "                                          columns=\"region_name\",\n",
    "                                          values=\"median_active_list_price\")"
   ]
  },
  {
   "cell_type": "code",
   "execution_count": 6,
   "id": "fb464549",
   "metadata": {},
   "outputs": [
    {
     "data": {
      "text/html": [
       "<div>\n",
       "<style scoped>\n",
       "    .dataframe tbody tr th:only-of-type {\n",
       "        vertical-align: middle;\n",
       "    }\n",
       "\n",
       "    .dataframe tbody tr th {\n",
       "        vertical-align: top;\n",
       "    }\n",
       "\n",
       "    .dataframe thead th {\n",
       "        text-align: right;\n",
       "    }\n",
       "</style>\n",
       "<table border=\"1\" class=\"dataframe\">\n",
       "  <thead>\n",
       "    <tr style=\"text-align: right;\">\n",
       "      <th>region_name</th>\n",
       "      <th>Los Angeles</th>\n",
       "      <th>San Diego</th>\n",
       "      <th>San Francisco</th>\n",
       "      <th>Tulare</th>\n",
       "    </tr>\n",
       "    <tr>\n",
       "      <th>period_begin</th>\n",
       "      <th></th>\n",
       "      <th></th>\n",
       "      <th></th>\n",
       "      <th></th>\n",
       "    </tr>\n",
       "  </thead>\n",
       "  <tbody>\n",
       "    <tr>\n",
       "      <th>2017-01-02</th>\n",
       "      <td>600558.0</td>\n",
       "      <td>603987.5</td>\n",
       "      <td>1210000.0</td>\n",
       "      <td>218237.5</td>\n",
       "    </tr>\n",
       "    <tr>\n",
       "      <th>2017-01-09</th>\n",
       "      <td>600558.0</td>\n",
       "      <td>607487.5</td>\n",
       "      <td>1218250.0</td>\n",
       "      <td>219606.2</td>\n",
       "    </tr>\n",
       "    <tr>\n",
       "      <th>2017-01-16</th>\n",
       "      <td>601808.0</td>\n",
       "      <td>612462.5</td>\n",
       "      <td>1230556.2</td>\n",
       "      <td>220975.0</td>\n",
       "    </tr>\n",
       "    <tr>\n",
       "      <th>2017-01-23</th>\n",
       "      <td>605183.0</td>\n",
       "      <td>617475.0</td>\n",
       "      <td>1230556.2</td>\n",
       "      <td>222343.7</td>\n",
       "    </tr>\n",
       "    <tr>\n",
       "      <th>2017-01-30</th>\n",
       "      <td>609375.0</td>\n",
       "      <td>621975.0</td>\n",
       "      <td>1222806.2</td>\n",
       "      <td>223343.7</td>\n",
       "    </tr>\n",
       "  </tbody>\n",
       "</table>\n",
       "</div>"
      ],
      "text/plain": [
       "region_name   Los Angeles  San Diego  San Francisco    Tulare\n",
       "period_begin                                                 \n",
       "2017-01-02       600558.0   603987.5      1210000.0  218237.5\n",
       "2017-01-09       600558.0   607487.5      1218250.0  219606.2\n",
       "2017-01-16       601808.0   612462.5      1230556.2  220975.0\n",
       "2017-01-23       605183.0   617475.0      1230556.2  222343.7\n",
       "2017-01-30       609375.0   621975.0      1222806.2  223343.7"
      ]
     },
     "execution_count": 6,
     "metadata": {},
     "output_type": "execute_result"
    }
   ],
   "source": [
    "ca_housing_pivot.head()"
   ]
  },
  {
   "cell_type": "code",
   "execution_count": 7,
   "id": "e96b9ba2",
   "metadata": {},
   "outputs": [],
   "source": [
    "means = ca_housing_pivot.mean()\n"
   ]
  },
  {
   "cell_type": "markdown",
   "id": "23a94c36",
   "metadata": {},
   "source": [
    "# Colors"
   ]
  },
  {
   "cell_type": "code",
   "execution_count": 8,
   "id": "6cc11c4a",
   "metadata": {},
   "outputs": [
    {
     "data": {
      "text/plain": [
       "<matplotlib.legend.Legend at 0x7fbff9876dc0>"
      ]
     },
     "execution_count": 8,
     "metadata": {},
     "output_type": "execute_result"
    },
    {
     "data": {
      "image/png": "[encoded data removed]",
      "text/plain": [
       "<Figure size 432x288 with 1 Axes>"
      ]
     },
     "metadata": {
      "needs_background": "light"
     },
     "output_type": "display_data"
    }
   ],
   "source": [
    "fig, ax = plt.subplots()\n",
    "\n",
    "colors = [\"red\", \"green\", \"black\", \"blue\"]\n",
    "\n",
    "for i, color in enumerate(colors):\n",
    "    ax.plot(ca_housing_pivot.index, ca_housing_pivot.iloc[:, i], c=color)\n",
    "    \n",
    "plt.legend([\"SF\", \"LA\", \"SD\", \"Tulare\"])"
   ]
  },
  {
   "cell_type": "code",
   "execution_count": 9,
   "id": "486aa598",
   "metadata": {},
   "outputs": [
    {
     "data": {
      "text/plain": [
       "<BarContainer object of 4 artists>"
      ]
     },
     "execution_count": 9,
     "metadata": {},
     "output_type": "execute_result"
    },
    {
     "data": {
      "image/png": "[encoded data removed]",
      "text/plain": [
       "<Figure size 432x288 with 1 Axes>"
      ]
     },
     "metadata": {
      "needs_background": "light"
     },
     "output_type": "display_data"
    }
   ],
   "source": [
    "fig, ax = plt.subplots()\n",
    "\n",
    "ax.bar(means.index, means.values, color=colors)"
   ]
  },
  {
   "cell_type": "code",
   "execution_count": 10,
   "id": "c338c619",
   "metadata": {},
   "outputs": [
    {
     "data": {
      "text/plain": [
       "<matplotlib.legend.Legend at 0x7fbfeb52dbe0>"
      ]
     },
     "execution_count": 10,
     "metadata": {},
     "output_type": "execute_result"
    },
    {
     "data": {
      "image/png": "[encoded data removed]",
      "text/plain": [
       "<Figure size 432x288 with 1 Axes>"
      ]
     },
     "metadata": {
      "needs_background": "light"
     },
     "output_type": "display_data"
    }
   ],
   "source": [
    "fig, ax = plt.subplots()\n",
    "\n",
    "colors = [\"#FF2D00\", \"#178C36\", \"#000000\", \"#1A17D0\"]\n",
    "\n",
    "for i, color in enumerate(colors):\n",
    "    ax.plot(ca_housing_pivot.index, ca_housing_pivot.iloc[:, i], c=color)\n",
    "    \n",
    "plt.legend([\"SF\", \"LA\", \"SD\", \"Tulare\"])"
   ]
  },
  {
   "cell_type": "code",
   "execution_count": 11,
   "id": "a363edfd",
   "metadata": {},
   "outputs": [
    {
     "data": {
      "text/plain": [
       "<BarContainer object of 4 artists>"
      ]
     },
     "execution_count": 11,
     "metadata": {},
     "output_type": "execute_result"
    },
    {
     "data": {
      "image/png": "[encoded data removed]",
      "text/plain": [
       "<Figure size 432x288 with 1 Axes>"
      ]
     },
     "metadata": {
      "needs_background": "light"
     },
     "output_type": "display_data"
    }
   ],
   "source": [
    "fig, ax = plt.subplots()\n",
    "\n",
    "ax.bar(means.index, means.values, color=colors)"
   ]
  },
  {
   "cell_type": "markdown",
   "id": "fccece45",
   "metadata": {},
   "source": [
    "# Colormaps"
   ]
  },
  {
   "cell_type": "code",
   "execution_count": 12,
   "id": "c5441631",
   "metadata": {},
   "outputs": [],
   "source": [
    "cm = plt.get_cmap('viridis')\n",
    "\n",
    "def update_colors(ax):\n",
    "    lines = ax.lines\n",
    "    colors = cm(np.linspace(0, 1, len(lines)))\n",
    "    for line, c in zip(lines, colors):\n",
    "        line.set_color(c)"
   ]
  },
  {
   "cell_type": "code",
   "execution_count": 13,
   "id": "966693a0",
   "metadata": {},
   "outputs": [
    {
     "data": {
      "image/png": "[encoded data removed]",
      "text/plain": [
       "<Figure size 432x288 with 1 Axes>"
      ]
     },
     "metadata": {
      "needs_background": "light"
     },
     "output_type": "display_data"
    }
   ],
   "source": [
    "fig, ax = plt.subplots()\n",
    "\n",
    "\n",
    "for i in range(4):\n",
    "    ax.plot(ca_housing_pivot.index, ca_housing_pivot.iloc[:, i] )\n",
    "    update_colors(ax)\n",
    "\n",
    "plt.legend(ca_housing_pivot.columns)\n",
    "\n",
    "plt.show()"
   ]
  },
  {
   "cell_type": "code",
   "execution_count": 14,
   "id": "1844a1da",
   "metadata": {},
   "outputs": [
    {
     "data": {
      "text/plain": [
       "<BarContainer object of 4 artists>"
      ]
     },
     "execution_count": 14,
     "metadata": {},
     "output_type": "execute_result"
    },
    {
     "data": {
      "image/png": "[encoded data removed]",
      "text/plain": [
       "<Figure size 432x288 with 1 Axes>"
      ]
     },
     "metadata": {
      "needs_background": "light"
     },
     "output_type": "display_data"
    }
   ],
   "source": [
    "fig, ax = plt.subplots()\n",
    "\n",
    "my_cmap = plt.get_cmap(\"viridis\")\n",
    "colors = np.linspace(0, 1, len(means.values))\n",
    "\n",
    "ax.bar(means.index, means.values, color=my_cmap(colors))\n"
   ]
  },
  {
   "cell_type": "code",
   "execution_count": 15,
   "id": "02f63e5d",
   "metadata": {},
   "outputs": [
    {
     "data": {
      "text/plain": [
       "array([0. , 0.5, 1. ])"
      ]
     },
     "execution_count": 15,
     "metadata": {},
     "output_type": "execute_result"
    }
   ],
   "source": [
    "y = np.array([4, 5, 6])\n",
    "rescale = lambda y: (y - np.min(y)) / (np.max(y) - np.min(y))\n",
    "rescale(y)"
   ]
  },
  {
   "cell_type": "code",
   "execution_count": 16,
   "id": "c028e20a",
   "metadata": {},
   "outputs": [],
   "source": [
    "# go into cycler?\n",
    "\n",
    "#mpl.rcParams['axes.prop_cycle'] = mpl.cycler(color=[\"r\", \"k\", \"c\"])"
   ]
  },
  {
   "cell_type": "markdown",
   "id": "56a9967e",
   "metadata": {},
   "source": [
    "# Subplots + Fig Size"
   ]
  },
  {
   "cell_type": "code",
   "execution_count": 17,
   "id": "b263d490",
   "metadata": {},
   "outputs": [
    {
     "data": {
      "image/png": "[encoded data removed]",
      "text/plain": [
       "<Figure size 720x720 with 4 Axes>"
      ]
     },
     "metadata": {
      "needs_background": "light"
     },
     "output_type": "display_data"
    }
   ],
   "source": [
    "# cm converter\n",
    "\n",
    "fig, ax = plt.subplots(2, 2, sharex='all', figsize=(10, 10))\n",
    "\n",
    "ax[0][0].hist(ca_housing.loc[ca_housing[\"region_name\"] == \"San Francisco\", \"median_active_list_price\"])\n",
    "ax[0][0].set_title(\"San Francisco\")\n",
    "\n",
    "ax[0][1].hist(ca_housing.loc[ca_housing[\"region_name\"] == \"San Diego\", \"median_active_list_price\"])\n",
    "ax[0][1].set_title(\"San Diego\")\n",
    "\n",
    "ax[1][0].hist(ca_housing.loc[ca_housing[\"region_name\"] == \"Tulare\", \"median_active_list_price\"])\n",
    "ax[1][0].set_title(\"Tulare\")\n",
    "\n",
    "ax[1][1].hist(ca_housing.loc[ca_housing[\"region_name\"] == \"Los Angeles\", \"median_active_list_price\"])\n",
    "ax[1][1].set_title(\"Los Angeles\")\n",
    "\n",
    "plt.show()\n"
   ]
  },
  {
   "cell_type": "code",
   "execution_count": 18,
   "id": "31f7f600",
   "metadata": {},
   "outputs": [],
   "source": [
    "price_by_region = ca_housing.groupby(\"region_name\").agg({\"median_active_list_price\": \"mean\"})"
   ]
  },
  {
   "cell_type": "code",
   "execution_count": 19,
   "id": "4cc8e696",
   "metadata": {},
   "outputs": [],
   "source": [
    "price_by_month = ca_housing.groupby(ca_housing[\"period_begin\"].dt.month).agg({\"median_active_list_price\": \"mean\"})"
   ]
  },
  {
   "cell_type": "code",
   "execution_count": 20,
   "id": "e7719e47",
   "metadata": {},
   "outputs": [],
   "source": [
    "price_by_r_m = ca_housing.groupby([\"region_name\", \n",
    "                                   ca_housing[\"period_begin\"].dt.year,\n",
    "                                   ca_housing[\"period_begin\"].dt.month]).agg({\"median_active_list_price\": \"mean\"})"
   ]
  },
  {
   "cell_type": "code",
   "execution_count": 21,
   "id": "c215f046",
   "metadata": {},
   "outputs": [
    {
     "data": {
      "text/plain": [
       "<matplotlib.collections.PathCollection at 0x7fbffe4a94c0>"
      ]
     },
     "execution_count": 21,
     "metadata": {},
     "output_type": "execute_result"
    },
    {
     "data": {
      "image/png": "[encoded data removed]",
      "text/plain": [
       "<Figure size 720x720 with 4 Axes>"
      ]
     },
     "metadata": {
      "needs_background": "light"
     },
     "output_type": "display_data"
    }
   ],
   "source": [
    "fig, ax = plt.subplots(2, 2, figsize=(10, 10))\n",
    "\n",
    "ax[0][0].bar(price_by_region.index, price_by_region[\"median_active_list_price\"])\n",
    "\n",
    "ax[0][1].bar(price_by_month.index, price_by_month[\"median_active_list_price\"])\n",
    "\n",
    "ax[1][0].hist(ca_housing[\"median_active_list_price\"])\n",
    "\n",
    "ax[1][1].scatter(price_by_r_m.loc[\"San Diego\", \"median_active_list_price\"],\n",
    "                 price_by_r_m.loc[\"Los Angeles\", \"median_active_list_price\"])\n",
    "\n"
   ]
  },
  {
   "cell_type": "code",
   "execution_count": 22,
   "id": "36318495",
   "metadata": {},
   "outputs": [],
   "source": [
    "price_by_r_m = [\"month\", \"median_active_list_price\"]"
   ]
  },
  {
   "cell_type": "markdown",
   "id": "4b3fe4c5",
   "metadata": {},
   "source": [
    "# Grid Spec"
   ]
  },
  {
   "cell_type": "code",
   "execution_count": 23,
   "id": "f97ca25b",
   "metadata": {},
   "outputs": [],
   "source": [
    "LA_SF=(ca_housing\n",
    " .query(\"region_name in ['Los Angeles', 'San Francisco'] and period_begin.dt.year == 2020\")\n",
    " .pivot_table(index=\"period_begin\",\n",
    "              columns=\"region_name\",\n",
    "              values=[\"total_homes_sold\", \"median_active_list_price\"],\n",
    "              aggfunc=\"mean\")\n",
    "             )"
   ]
  },
  {
   "cell_type": "code",
   "execution_count": 24,
   "id": "e43a01fe",
   "metadata": {},
   "outputs": [
    {
     "data": {
      "text/html": [
       "<div>\n",
       "<style scoped>\n",
       "    .dataframe tbody tr th:only-of-type {\n",
       "        vertical-align: middle;\n",
       "    }\n",
       "\n",
       "    .dataframe tbody tr th {\n",
       "        vertical-align: top;\n",
       "    }\n",
       "\n",
       "    .dataframe thead tr th {\n",
       "        text-align: left;\n",
       "    }\n",
       "\n",
       "    .dataframe thead tr:last-of-type th {\n",
       "        text-align: right;\n",
       "    }\n",
       "</style>\n",
       "<table border=\"1\" class=\"dataframe\">\n",
       "  <thead>\n",
       "    <tr>\n",
       "      <th></th>\n",
       "      <th colspan=\"2\" halign=\"left\">median_active_list_price</th>\n",
       "      <th colspan=\"2\" halign=\"left\">total_homes_sold</th>\n",
       "    </tr>\n",
       "    <tr>\n",
       "      <th>region_name</th>\n",
       "      <th>Los Angeles</th>\n",
       "      <th>San Francisco</th>\n",
       "      <th>Los Angeles</th>\n",
       "      <th>San Francisco</th>\n",
       "    </tr>\n",
       "    <tr>\n",
       "      <th>period_begin</th>\n",
       "      <th></th>\n",
       "      <th></th>\n",
       "      <th></th>\n",
       "      <th></th>\n",
       "    </tr>\n",
       "  </thead>\n",
       "  <tbody>\n",
       "    <tr>\n",
       "      <th>2020-01-06</th>\n",
       "      <td>749725.0</td>\n",
       "      <td>1486250.0</td>\n",
       "      <td>4128.0</td>\n",
       "      <td>235.0</td>\n",
       "    </tr>\n",
       "    <tr>\n",
       "      <th>2020-01-13</th>\n",
       "      <td>753700.0</td>\n",
       "      <td>1486250.0</td>\n",
       "      <td>4137.0</td>\n",
       "      <td>231.0</td>\n",
       "    </tr>\n",
       "    <tr>\n",
       "      <th>2020-01-20</th>\n",
       "      <td>758475.0</td>\n",
       "      <td>1490000.0</td>\n",
       "      <td>4034.0</td>\n",
       "      <td>230.0</td>\n",
       "    </tr>\n",
       "    <tr>\n",
       "      <th>2020-01-27</th>\n",
       "      <td>765725.0</td>\n",
       "      <td>1501250.0</td>\n",
       "      <td>4127.0</td>\n",
       "      <td>270.0</td>\n",
       "    </tr>\n",
       "    <tr>\n",
       "      <th>2020-02-03</th>\n",
       "      <td>773225.0</td>\n",
       "      <td>1504375.0</td>\n",
       "      <td>4376.0</td>\n",
       "      <td>299.0</td>\n",
       "    </tr>\n",
       "    <tr>\n",
       "      <th>2020-02-10</th>\n",
       "      <td>779250.0</td>\n",
       "      <td>1505375.0</td>\n",
       "      <td>4659.0</td>\n",
       "      <td>329.0</td>\n",
       "    </tr>\n",
       "    <tr>\n",
       "      <th>2020-02-17</th>\n",
       "      <td>785750.0</td>\n",
       "      <td>1506625.0</td>\n",
       "      <td>4837.0</td>\n",
       "      <td>359.0</td>\n",
       "    </tr>\n",
       "    <tr>\n",
       "      <th>2020-02-24</th>\n",
       "      <td>788000.0</td>\n",
       "      <td>1501625.0</td>\n",
       "      <td>5117.0</td>\n",
       "      <td>378.0</td>\n",
       "    </tr>\n",
       "    <tr>\n",
       "      <th>2020-03-02</th>\n",
       "      <td>788000.0</td>\n",
       "      <td>1499750.0</td>\n",
       "      <td>4811.0</td>\n",
       "      <td>384.0</td>\n",
       "    </tr>\n",
       "    <tr>\n",
       "      <th>2020-03-09</th>\n",
       "      <td>785750.0</td>\n",
       "      <td>1500000.0</td>\n",
       "      <td>4625.0</td>\n",
       "      <td>347.0</td>\n",
       "    </tr>\n",
       "    <tr>\n",
       "      <th>2020-03-16</th>\n",
       "      <td>781750.0</td>\n",
       "      <td>1508000.0</td>\n",
       "      <td>4280.0</td>\n",
       "      <td>293.0</td>\n",
       "    </tr>\n",
       "    <tr>\n",
       "      <th>2020-03-23</th>\n",
       "      <td>778500.0</td>\n",
       "      <td>1508000.0</td>\n",
       "      <td>3905.0</td>\n",
       "      <td>250.0</td>\n",
       "    </tr>\n",
       "    <tr>\n",
       "      <th>2020-03-30</th>\n",
       "      <td>777250.0</td>\n",
       "      <td>1507500.0</td>\n",
       "      <td>3566.0</td>\n",
       "      <td>216.0</td>\n",
       "    </tr>\n",
       "    <tr>\n",
       "      <th>2020-04-06</th>\n",
       "      <td>776000.0</td>\n",
       "      <td>1507000.0</td>\n",
       "      <td>3411.0</td>\n",
       "      <td>203.0</td>\n",
       "    </tr>\n",
       "    <tr>\n",
       "      <th>2020-04-13</th>\n",
       "      <td>776223.5</td>\n",
       "      <td>1497750.0</td>\n",
       "      <td>3236.0</td>\n",
       "      <td>195.0</td>\n",
       "    </tr>\n",
       "    <tr>\n",
       "      <th>2020-04-20</th>\n",
       "      <td>779098.5</td>\n",
       "      <td>1496500.0</td>\n",
       "      <td>3065.0</td>\n",
       "      <td>184.0</td>\n",
       "    </tr>\n",
       "    <tr>\n",
       "      <th>2020-04-27</th>\n",
       "      <td>784098.5</td>\n",
       "      <td>1495750.0</td>\n",
       "      <td>3051.0</td>\n",
       "      <td>178.0</td>\n",
       "    </tr>\n",
       "    <tr>\n",
       "      <th>2020-05-04</th>\n",
       "      <td>790098.5</td>\n",
       "      <td>1493500.0</td>\n",
       "      <td>2942.0</td>\n",
       "      <td>201.0</td>\n",
       "    </tr>\n",
       "    <tr>\n",
       "      <th>2020-05-11</th>\n",
       "      <td>794875.0</td>\n",
       "      <td>1490875.0</td>\n",
       "      <td>3091.0</td>\n",
       "      <td>225.0</td>\n",
       "    </tr>\n",
       "    <tr>\n",
       "      <th>2020-05-18</th>\n",
       "      <td>798250.0</td>\n",
       "      <td>1479625.0</td>\n",
       "      <td>3400.0</td>\n",
       "      <td>256.0</td>\n",
       "    </tr>\n",
       "    <tr>\n",
       "      <th>2020-05-25</th>\n",
       "      <td>804250.0</td>\n",
       "      <td>1455875.0</td>\n",
       "      <td>3741.0</td>\n",
       "      <td>278.0</td>\n",
       "    </tr>\n",
       "    <tr>\n",
       "      <th>2020-06-01</th>\n",
       "      <td>809747.5</td>\n",
       "      <td>1439875.0</td>\n",
       "      <td>4051.0</td>\n",
       "      <td>292.0</td>\n",
       "    </tr>\n",
       "    <tr>\n",
       "      <th>2020-06-08</th>\n",
       "      <td>818722.5</td>\n",
       "      <td>1418750.0</td>\n",
       "      <td>4401.0</td>\n",
       "      <td>316.0</td>\n",
       "    </tr>\n",
       "    <tr>\n",
       "      <th>2020-06-15</th>\n",
       "      <td>828222.5</td>\n",
       "      <td>1406000.0</td>\n",
       "      <td>4592.0</td>\n",
       "      <td>344.0</td>\n",
       "    </tr>\n",
       "    <tr>\n",
       "      <th>2020-06-22</th>\n",
       "      <td>833072.5</td>\n",
       "      <td>1404750.0</td>\n",
       "      <td>4820.0</td>\n",
       "      <td>394.0</td>\n",
       "    </tr>\n",
       "    <tr>\n",
       "      <th>2020-06-29</th>\n",
       "      <td>840061.8</td>\n",
       "      <td>1397250.0</td>\n",
       "      <td>5160.0</td>\n",
       "      <td>415.0</td>\n",
       "    </tr>\n",
       "    <tr>\n",
       "      <th>2020-07-06</th>\n",
       "      <td>843586.8</td>\n",
       "      <td>1396000.0</td>\n",
       "      <td>5636.0</td>\n",
       "      <td>440.0</td>\n",
       "    </tr>\n",
       "    <tr>\n",
       "      <th>2020-07-13</th>\n",
       "      <td>846586.6</td>\n",
       "      <td>1395000.0</td>\n",
       "      <td>5841.0</td>\n",
       "      <td>438.0</td>\n",
       "    </tr>\n",
       "    <tr>\n",
       "      <th>2020-07-20</th>\n",
       "      <td>849486.3</td>\n",
       "      <td>1395000.0</td>\n",
       "      <td>5952.0</td>\n",
       "      <td>414.0</td>\n",
       "    </tr>\n",
       "    <tr>\n",
       "      <th>2020-07-27</th>\n",
       "      <td>849749.5</td>\n",
       "      <td>1395000.0</td>\n",
       "      <td>6048.0</td>\n",
       "      <td>419.0</td>\n",
       "    </tr>\n",
       "    <tr>\n",
       "      <th>2020-08-03</th>\n",
       "      <td>849999.5</td>\n",
       "      <td>1393750.0</td>\n",
       "      <td>5928.0</td>\n",
       "      <td>433.0</td>\n",
       "    </tr>\n",
       "    <tr>\n",
       "      <th>2020-08-10</th>\n",
       "      <td>849999.7</td>\n",
       "      <td>1387250.0</td>\n",
       "      <td>6201.0</td>\n",
       "      <td>469.0</td>\n",
       "    </tr>\n",
       "    <tr>\n",
       "      <th>2020-08-17</th>\n",
       "      <td>850000.0</td>\n",
       "      <td>1380125.0</td>\n",
       "      <td>5923.0</td>\n",
       "      <td>478.0</td>\n",
       "    </tr>\n",
       "    <tr>\n",
       "      <th>2020-08-24</th>\n",
       "      <td>850000.0</td>\n",
       "      <td>1368875.0</td>\n",
       "      <td>5994.0</td>\n",
       "      <td>494.0</td>\n",
       "    </tr>\n",
       "    <tr>\n",
       "      <th>2020-08-31</th>\n",
       "      <td>850000.0</td>\n",
       "      <td>1358625.0</td>\n",
       "      <td>6038.0</td>\n",
       "      <td>489.0</td>\n",
       "    </tr>\n",
       "    <tr>\n",
       "      <th>2020-09-07</th>\n",
       "      <td>850000.0</td>\n",
       "      <td>1353625.0</td>\n",
       "      <td>6162.0</td>\n",
       "      <td>481.0</td>\n",
       "    </tr>\n",
       "    <tr>\n",
       "      <th>2020-09-14</th>\n",
       "      <td>850000.0</td>\n",
       "      <td>1349250.0</td>\n",
       "      <td>6413.0</td>\n",
       "      <td>495.0</td>\n",
       "    </tr>\n",
       "    <tr>\n",
       "      <th>2020-09-21</th>\n",
       "      <td>850000.0</td>\n",
       "      <td>1349000.0</td>\n",
       "      <td>6270.0</td>\n",
       "      <td>493.0</td>\n",
       "    </tr>\n",
       "    <tr>\n",
       "      <th>2020-09-28</th>\n",
       "      <td>850000.0</td>\n",
       "      <td>1343000.0</td>\n",
       "      <td>6298.0</td>\n",
       "      <td>526.0</td>\n",
       "    </tr>\n",
       "    <tr>\n",
       "      <th>2020-10-05</th>\n",
       "      <td>850000.0</td>\n",
       "      <td>1330749.3</td>\n",
       "      <td>6252.0</td>\n",
       "      <td>544.0</td>\n",
       "    </tr>\n",
       "    <tr>\n",
       "      <th>2020-10-12</th>\n",
       "      <td>851250.0</td>\n",
       "      <td>1318249.3</td>\n",
       "      <td>6357.0</td>\n",
       "      <td>576.0</td>\n",
       "    </tr>\n",
       "    <tr>\n",
       "      <th>2020-10-19</th>\n",
       "      <td>855000.0</td>\n",
       "      <td>1304749.3</td>\n",
       "      <td>6352.0</td>\n",
       "      <td>594.0</td>\n",
       "    </tr>\n",
       "    <tr>\n",
       "      <th>2020-10-26</th>\n",
       "      <td>857500.0</td>\n",
       "      <td>1297249.3</td>\n",
       "      <td>6470.0</td>\n",
       "      <td>607.0</td>\n",
       "    </tr>\n",
       "    <tr>\n",
       "      <th>2020-11-02</th>\n",
       "      <td>862500.0</td>\n",
       "      <td>1296000.0</td>\n",
       "      <td>5886.0</td>\n",
       "      <td>578.0</td>\n",
       "    </tr>\n",
       "    <tr>\n",
       "      <th>2020-11-09</th>\n",
       "      <td>866000.0</td>\n",
       "      <td>1295750.0</td>\n",
       "      <td>6053.0</td>\n",
       "      <td>576.0</td>\n",
       "    </tr>\n",
       "    <tr>\n",
       "      <th>2020-11-16</th>\n",
       "      <td>866000.0</td>\n",
       "      <td>1295750.0</td>\n",
       "      <td>6128.0</td>\n",
       "      <td>582.0</td>\n",
       "    </tr>\n",
       "    <tr>\n",
       "      <th>2020-11-23</th>\n",
       "      <td>867250.0</td>\n",
       "      <td>1294000.0</td>\n",
       "      <td>6007.0</td>\n",
       "      <td>571.0</td>\n",
       "    </tr>\n",
       "    <tr>\n",
       "      <th>2020-11-30</th>\n",
       "      <td>868499.7</td>\n",
       "      <td>1288125.0</td>\n",
       "      <td>6187.0</td>\n",
       "      <td>573.0</td>\n",
       "    </tr>\n",
       "    <tr>\n",
       "      <th>2020-12-07</th>\n",
       "      <td>869999.7</td>\n",
       "      <td>1283375.0</td>\n",
       "      <td>5749.0</td>\n",
       "      <td>545.0</td>\n",
       "    </tr>\n",
       "    <tr>\n",
       "      <th>2020-12-14</th>\n",
       "      <td>869999.7</td>\n",
       "      <td>1278375.0</td>\n",
       "      <td>5539.0</td>\n",
       "      <td>517.0</td>\n",
       "    </tr>\n",
       "    <tr>\n",
       "      <th>2020-12-21</th>\n",
       "      <td>870498.5</td>\n",
       "      <td>1273125.0</td>\n",
       "      <td>5284.0</td>\n",
       "      <td>473.0</td>\n",
       "    </tr>\n",
       "    <tr>\n",
       "      <th>2020-12-28</th>\n",
       "      <td>870498.5</td>\n",
       "      <td>1274000.0</td>\n",
       "      <td>5068.0</td>\n",
       "      <td>443.0</td>\n",
       "    </tr>\n",
       "  </tbody>\n",
       "</table>\n",
       "</div>"
      ],
      "text/plain": [
       "             median_active_list_price               total_homes_sold  \\\n",
       "region_name               Los Angeles San Francisco      Los Angeles   \n",
       "period_begin                                                           \n",
       "2020-01-06                   749725.0     1486250.0           4128.0   \n",
       "2020-01-13                   753700.0     1486250.0           4137.0   \n",
       "2020-01-20                   758475.0     1490000.0           4034.0   \n",
       "2020-01-27                   765725.0     1501250.0           4127.0   \n",
       "2020-02-03                   773225.0     1504375.0           4376.0   \n",
       "2020-02-10                   779250.0     1505375.0           4659.0   \n",
       "2020-02-17                   785750.0     1506625.0           4837.0   \n",
       "2020-02-24                   788000.0     1501625.0           5117.0   \n",
       "2020-03-02                   788000.0     1499750.0           4811.0   \n",
       "2020-03-09                   785750.0     1500000.0           4625.0   \n",
       "2020-03-16                   781750.0     1508000.0           4280.0   \n",
       "2020-03-23                   778500.0     1508000.0           3905.0   \n",
       "2020-03-30                   777250.0     1507500.0           3566.0   \n",
       "2020-04-06                   776000.0     1507000.0           3411.0   \n",
       "2020-04-13                   776223.5     1497750.0           3236.0   \n",
       "2020-04-20                   779098.5     1496500.0           3065.0   \n",
       "2020-04-27                   784098.5     1495750.0           3051.0   \n",
       "2020-05-04                   790098.5     1493500.0           2942.0   \n",
       "2020-05-11                   794875.0     1490875.0           3091.0   \n",
       "2020-05-18                   798250.0     1479625.0           3400.0   \n",
       "2020-05-25                   804250.0     1455875.0           3741.0   \n",
       "2020-06-01                   809747.5     1439875.0           4051.0   \n",
       "2020-06-08                   818722.5     1418750.0           4401.0   \n",
       "2020-06-15                   828222.5     1406000.0           4592.0   \n",
       "2020-06-22                   833072.5     1404750.0           4820.0   \n",
       "2020-06-29                   840061.8     1397250.0           5160.0   \n",
       "2020-07-06                   843586.8     1396000.0           5636.0   \n",
       "2020-07-13                   846586.6     1395000.0           5841.0   \n",
       "2020-07-20                   849486.3     1395000.0           5952.0   \n",
       "2020-07-27                   849749.5     1395000.0           6048.0   \n",
       "2020-08-03                   849999.5     1393750.0           5928.0   \n",
       "2020-08-10                   849999.7     1387250.0           6201.0   \n",
       "2020-08-17                   850000.0     1380125.0           5923.0   \n",
       "2020-08-24                   850000.0     1368875.0           5994.0   \n",
       "2020-08-31                   850000.0     1358625.0           6038.0   \n",
       "2020-09-07                   850000.0     1353625.0           6162.0   \n",
       "2020-09-14                   850000.0     1349250.0           6413.0   \n",
       "2020-09-21                   850000.0     1349000.0           6270.0   \n",
       "2020-09-28                   850000.0     1343000.0           6298.0   \n",
       "2020-10-05                   850000.0     1330749.3           6252.0   \n",
       "2020-10-12                   851250.0     1318249.3           6357.0   \n",
       "2020-10-19                   855000.0     1304749.3           6352.0   \n",
       "2020-10-26                   857500.0     1297249.3           6470.0   \n",
       "2020-11-02                   862500.0     1296000.0           5886.0   \n",
       "2020-11-09                   866000.0     1295750.0           6053.0   \n",
       "2020-11-16                   866000.0     1295750.0           6128.0   \n",
       "2020-11-23                   867250.0     1294000.0           6007.0   \n",
       "2020-11-30                   868499.7     1288125.0           6187.0   \n",
       "2020-12-07                   869999.7     1283375.0           5749.0   \n",
       "2020-12-14                   869999.7     1278375.0           5539.0   \n",
       "2020-12-21                   870498.5     1273125.0           5284.0   \n",
       "2020-12-28                   870498.5     1274000.0           5068.0   \n",
       "\n",
       "                            \n",
       "region_name  San Francisco  \n",
       "period_begin                \n",
       "2020-01-06           235.0  \n",
       "2020-01-13           231.0  \n",
       "2020-01-20           230.0  \n",
       "2020-01-27           270.0  \n",
       "2020-02-03           299.0  \n",
       "2020-02-10           329.0  \n",
       "2020-02-17           359.0  \n",
       "2020-02-24           378.0  \n",
       "2020-03-02           384.0  \n",
       "2020-03-09           347.0  \n",
       "2020-03-16           293.0  \n",
       "2020-03-23           250.0  \n",
       "2020-03-30           216.0  \n",
       "2020-04-06           203.0  \n",
       "2020-04-13           195.0  \n",
       "2020-04-20           184.0  \n",
       "2020-04-27           178.0  \n",
       "2020-05-04           201.0  \n",
       "2020-05-11           225.0  \n",
       "2020-05-18           256.0  \n",
       "2020-05-25           278.0  \n",
       "2020-06-01           292.0  \n",
       "2020-06-08           316.0  \n",
       "2020-06-15           344.0  \n",
       "2020-06-22           394.0  \n",
       "2020-06-29           415.0  \n",
       "2020-07-06           440.0  \n",
       "2020-07-13           438.0  \n",
       "2020-07-20           414.0  \n",
       "2020-07-27           419.0  \n",
       "2020-08-03           433.0  \n",
       "2020-08-10           469.0  \n",
       "2020-08-17           478.0  \n",
       "2020-08-24           494.0  \n",
       "2020-08-31           489.0  \n",
       "2020-09-07           481.0  \n",
       "2020-09-14           495.0  \n",
       "2020-09-21           493.0  \n",
       "2020-09-28           526.0  \n",
       "2020-10-05           544.0  \n",
       "2020-10-12           576.0  \n",
       "2020-10-19           594.0  \n",
       "2020-10-26           607.0  \n",
       "2020-11-02           578.0  \n",
       "2020-11-09           576.0  \n",
       "2020-11-16           582.0  \n",
       "2020-11-23           571.0  \n",
       "2020-11-30           573.0  \n",
       "2020-12-07           545.0  \n",
       "2020-12-14           517.0  \n",
       "2020-12-21           473.0  \n",
       "2020-12-28           443.0  "
      ]
     },
     "execution_count": 24,
     "metadata": {},
     "output_type": "execute_result"
    }
   ],
   "source": [
    "LA_SF"
   ]
  },
  {
   "cell_type": "code",
   "execution_count": 25,
   "id": "cbb95e4f",
   "metadata": {},
   "outputs": [],
   "source": [
    "LA_SF=(ca_housing\n",
    " .query(\"region_name in ['Los Angeles', 'San Francisco'] and period_begin.dt.year in [2019, 2020]\")\n",
    " .pivot_table(index=\"period_begin\",\n",
    "              columns=\"region_name\",\n",
    "              values=[\"total_homes_sold\", \"median_active_list_price\"],\n",
    "              aggfunc=\"mean\")\n",
    "             )"
   ]
  },
  {
   "cell_type": "code",
   "execution_count": 26,
   "id": "379d89a3",
   "metadata": {},
   "outputs": [],
   "source": [
    "two_year = LA_SF.resample(\"M\").mean()\n",
    "\n",
    "two_year_LA = (two_year.reset_index()\n",
    "               .assign(year=lambda x: x.iloc[:, 0].dt.year,\n",
    "                       month=lambda x: x.iloc[:, 0].dt.month)\n",
    "               .iloc[:, [0, 3, 5, 6]]\n",
    "              )\n",
    "\n",
    "two_year_LA.columns= [\"Date\", \"Homes Sold\", \"Year\", \"Month\"]"
   ]
  },
  {
   "cell_type": "code",
   "execution_count": 27,
   "id": "e48b5dd4",
   "metadata": {},
   "outputs": [
    {
     "data": {
      "text/plain": [
       "[1356237.5, 679611.0]"
      ]
     },
     "execution_count": 27,
     "metadata": {},
     "output_type": "execute_result"
    }
   ],
   "source": [
    "totals_jan = [LA_SF.iloc[0, 1], LA_SF.iloc[0, 0]]\n",
    "totals_jan"
   ]
  },
  {
   "cell_type": "code",
   "execution_count": 28,
   "id": "80f1c655",
   "metadata": {},
   "outputs": [
    {
     "data": {
      "text/plain": [
       "[1274000.0, 870498.5]"
      ]
     },
     "execution_count": 28,
     "metadata": {},
     "output_type": "execute_result"
    }
   ],
   "source": [
    "totals_dec = [LA_SF.iloc[-1, 1], LA_SF.iloc[-1, 0]]\n",
    "totals_dec"
   ]
  },
  {
   "cell_type": "code",
   "execution_count": 29,
   "id": "d93feaa0",
   "metadata": {},
   "outputs": [],
   "source": [
    "two_year = LA_SF.resample(\"M\").mean()\n",
    "\n",
    "two_year_SF = (two_year.reset_index()\n",
    "               .assign(year=lambda x: x.iloc[:, 0].dt.year,\n",
    "                       month=lambda x: x.iloc[:, 0].dt.month)\n",
    "               .iloc[:, [0, 2, 5, 6]]\n",
    "              )\n",
    "               \n",
    "two_year_SF.columns= [\"Date\", \"Homes Sold\", \"Year\", \"Month\"]"
   ]
  },
  {
   "cell_type": "code",
   "execution_count": null,
   "id": "2ed0f55c",
   "metadata": {},
   "outputs": [],
   "source": []
  },
  {
   "cell_type": "code",
   "execution_count": 44,
   "id": "144ded2d",
   "metadata": {},
   "outputs": [
    {
     "name": "stderr",
     "output_type": "stream",
     "text": [
      "/var/folders/f8/075hbnj13wb0f9yzh9k4nyz00000gn/T/ipykernel_68234/3528778465.py:79: UserWarning: This figure includes Axes that are not compatible with tight_layout, so results might be incorrect.\n",
      "  fig.tight_layout()\n"
     ]
    },
    {
     "data": {
      "image/png": "[encoded data removed]",
      "text/plain": [
       "<Figure size 612x792 with 5 Axes>"
      ]
     },
     "metadata": {
      "needs_background": "light"
     },
     "output_type": "display_data"
    }
   ],
   "source": [
    "import matplotlib.gridspec as gridspec\n",
    "\n",
    "fig = plt.figure(#constrained_layout=True, \n",
    "                 figsize=(8.5, 11))\n",
    "\n",
    "gridspec = gridspec.GridSpec(ncols=4, nrows=8)\n",
    "gridspec.update(hspace=0.05)\n",
    "\n",
    "fig.suptitle(\"LA Prices Gain Ground on SF Prices during Pandemic\", fontsize=20)\n",
    "\n",
    "ax1 = fig.add_subplot(gridspec[0:2, 0:2])\n",
    "ax1.pie(totals_jan,\n",
    "        startangle=90,\n",
    "        labels = [\"\", \"\"],\n",
    "        #autopct='%.0f%%',\n",
    "        pctdistance=.85,\n",
    "        colors=[\"White\", \"Blue\"])\n",
    "\n",
    "centre_circle = plt.Circle((0, 0), 0.70, fc='white')\n",
    "fig = plt.gcf()\n",
    "\n",
    "# Adding Circle in Pie chart\n",
    "fig.gca().add_artist(centre_circle)\n",
    "\n",
    "plt.text(0, 0, \n",
    "         f\"{round((totals_jan[1] / totals_jan[0])*100)}%\", \n",
    "         ha='center', \n",
    "         va='center', \n",
    "         fontsize=36\n",
    "        )\n",
    "  \n",
    "\n",
    "ax1.set_title(\"January Ratio of LA to SF Price\", fontsize=14)\n",
    "\n",
    "ax2 = fig.add_subplot(gridspec[0:2, 2:])\n",
    "\n",
    "ax2.pie(totals_dec,\n",
    "        startangle=90,\n",
    "        labels = [\"\", \"\"],\n",
    "        #autopct='%.0f%%',\n",
    "        pctdistance=.85,\n",
    "        colors=[\"White\", \"Blue\"])\n",
    "\n",
    "centre_circle = plt.Circle((0, 0), 0.70, fc='white')\n",
    "fig = plt.gcf()\n",
    "  \n",
    "# Adding Circle in Pie chart\n",
    "fig.gca().add_artist(centre_circle)\n",
    "plt.text(0, 0, f\"{round((totals_dec[1] / totals_dec[0]*100))}%\", ha='center', va='center', fontsize=36)\n",
    "  \n",
    "\n",
    "ax2.set_title(\"December Ratio of LA to SF Price\", fontsize=14)\n",
    "\n",
    "\n",
    "ax3 = fig.add_subplot(gridspec[2:5, :])\n",
    "ax3.plot(LA_SF.iloc[:, 0:2])\n",
    "\n",
    "ax3.set_title(\"\", fontsize=16)\n",
    "ax3.legend([\"LA\", \"SF\"])\n",
    "\n",
    "ax4 = fig.add_subplot(gridspec[6:, 0:2])\n",
    "\n",
    "\n",
    "sns.barplot(x=\"Month\", \n",
    "            y=\"Homes Sold\",\n",
    "            hue=\"Year\",\n",
    "            data=two_year_LA,\n",
    "            ax=ax4)\n",
    "\n",
    "ax5 = fig.add_subplot(gridspec[6:, 2:])\n",
    "\n",
    "\n",
    "sns.barplot(x=\"Month\", \n",
    "            y=\"Homes Sold\",\n",
    "            hue=\"Year\",\n",
    "            data=two_year_SF,\n",
    "            ax=ax5)\n",
    "\n",
    "fig.tight_layout()\n",
    "\n",
    "plt.show()"
   ]
  },
  {
   "cell_type": "code",
   "execution_count": null,
   "id": "77cd4fb9",
   "metadata": {},
   "outputs": [],
   "source": []
  }
 ],
 "metadata": {
  "kernelspec": {
   "display_name": "Python 3 (ipykernel)",
   "language": "python",
   "name": "python3"
  },
  "language_info": {
   "codemirror_mode": {
    "name": "ipython",
    "version": 3
   },
   "file_extension": ".py",
   "mimetype": "text/x-python",
   "name": "python",
   "nbconvert_exporter": "python",
   "pygments_lexer": "ipython3",
   "version": "3.9.7"
  }
 },
 "nbformat": 4,
 "nbformat_minor": 5
}
