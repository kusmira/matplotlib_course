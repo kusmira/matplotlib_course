{
 "cells": [
  {
   "cell_type": "code",
   "execution_count": null,
   "id": "4a939aa3",
   "metadata": {},
   "outputs": [],
   "source": [
    "import numpy as np\n",
    "import pandas as pd\n",
    "\n",
    "import matplotlib.pyplot as plt\n",
    "%matplotlib inline"
   ]
  },
  {
   "cell_type": "code",
   "execution_count": null,
   "id": "8f87cd49",
   "metadata": {},
   "outputs": [],
   "source": [
    "x = list(range(10))\n",
    "y = [x**2 for x in x]"
   ]
  },
  {
   "cell_type": "code",
   "execution_count": null,
   "id": "e95cd187",
   "metadata": {},
   "outputs": [],
   "source": [
    "x"
   ]
  },
  {
   "cell_type": "code",
   "execution_count": null,
   "id": "732571b6",
   "metadata": {},
   "outputs": [],
   "source": [
    "y"
   ]
  },
  {
   "cell_type": "code",
   "execution_count": null,
   "id": "4105997e",
   "metadata": {},
   "outputs": [],
   "source": [
    "plt.plot(x, y);"
   ]
  },
  {
   "cell_type": "code",
   "execution_count": null,
   "id": "e78f7f55",
   "metadata": {},
   "outputs": [],
   "source": [
    "z = [x**3 for x in x]"
   ]
  },
  {
   "cell_type": "code",
   "execution_count": null,
   "id": "7581ab50",
   "metadata": {},
   "outputs": [],
   "source": []
  },
  {
   "cell_type": "code",
   "execution_count": null,
   "id": "280f80e5",
   "metadata": {},
   "outputs": [],
   "source": [
    "fig, ax = plt.subplots(figsize=(10, 10))\n",
    "\n",
    "plt.title(\"Exponentiated Integers\", fontsize=20)\n",
    "plt.xlabel(\"Integer Value\", fontsize=16)\n",
    "plt.ylabel(\"Exponent Value\", fontsize=16)\n",
    "ax.plot(x, y, label=\"x-squared\")\n",
    "ax.plot(x, z, label=\"x-cubed\")\n",
    "plt.legend(fontsize=14)\n"
   ]
  },
  {
   "cell_type": "code",
   "execution_count": null,
   "id": "cea3f976",
   "metadata": {},
   "outputs": [],
   "source": [
    "diamonds = pd.read_csv(\"Diamonds Prices2022.csv\")"
   ]
  },
  {
   "cell_type": "code",
   "execution_count": null,
   "id": "5b0fdf01",
   "metadata": {},
   "outputs": [],
   "source": [
    "diamonds.head()"
   ]
  },
  {
   "cell_type": "code",
   "execution_count": null,
   "id": "18078bf8",
   "metadata": {},
   "outputs": [],
   "source": [
    "diamond_average_df = diamonds.groupby([\"cut\"]).agg({\"price\":\"mean\"}).sort_values(\"price\", ascending=False)\n",
    "\n",
    "diamond_average = diamonds[\"price\"].mean()"
   ]
  },
  {
   "cell_type": "code",
   "execution_count": null,
   "id": "94a4f97b",
   "metadata": {},
   "outputs": [],
   "source": []
  },
  {
   "cell_type": "code",
   "execution_count": null,
   "id": "19529295",
   "metadata": {},
   "outputs": [],
   "source": [
    "plt.axhline(diamond_average, 0, 1, color=\"red\", label=\"mean\")\n",
    "\n",
    "plt.bar(x=diamond_average_df.index, height=diamond_average_df[\"price\"])"
   ]
  },
  {
   "cell_type": "code",
   "execution_count": null,
   "id": "f4eac76d",
   "metadata": {},
   "outputs": [],
   "source": [
    "plt.axvline(diamond_average, 0, 1, color=\"red\", label=\"mean\", ls=\"--\")\n",
    "\n",
    "plt.barh(y=diamond_average_df.index, width=diamond_average_df[\"price\"])"
   ]
  },
  {
   "cell_type": "code",
   "execution_count": null,
   "id": "4ef06a1a",
   "metadata": {},
   "outputs": [],
   "source": [
    "diamond_pivot = diamonds.pivot_table(index=\"cut\",\n",
    "                                     columns = \"clarity\",\n",
    "                                     values= {\"carat\":\"mean\"}\n",
    "                                    ).droplevel(0, axis=1)\n",
    "\n",
    "diamond_pivot"
   ]
  },
  {
   "cell_type": "code",
   "execution_count": null,
   "id": "dafcd636",
   "metadata": {},
   "outputs": [],
   "source": [
    "import seaborn as sns\n",
    "\n",
    "sns.heatmap(diamond_pivot)"
   ]
  },
  {
   "cell_type": "code",
   "execution_count": null,
   "id": "29cf9696",
   "metadata": {},
   "outputs": [],
   "source": [
    "housing_raw = pd.read_csv(\"housing_prices.tsv000\", \n",
    "                      sep=\"\\t\", \n",
    "                      parse_dates=[\"period_begin\", \"period_end\"],\n",
    "                      dtype=({\"total_homes_sold\": \"Int32\"}),\n",
    "                      usecols=[\"period_begin\", \n",
    "                               \"period_end\", \n",
    "                               \"region_type\",\n",
    "                               \"region_name\", \n",
    "                               \"duration\", \n",
    "                               \"total_homes_sold\", \n",
    "                               \"median_active_list_price\"\n",
    "                              ]\n",
    ")"
   ]
  },
  {
   "cell_type": "code",
   "execution_count": null,
   "id": "22556dc0",
   "metadata": {},
   "outputs": [],
   "source": [
    "housing_raw.loc[housing_raw[\"region_name\"].str.contains(\"CA\"), \"region_name\"].value_counts()"
   ]
  },
  {
   "cell_type": "code",
   "execution_count": null,
   "id": "f8537720",
   "metadata": {},
   "outputs": [],
   "source": [
    "housing_raw.info(memory_usage=\"deep\")"
   ]
  },
  {
   "cell_type": "code",
   "execution_count": null,
   "id": "5d8d0ac7",
   "metadata": {},
   "outputs": [],
   "source": [
    "housing_raw[\"region_name\"].value_counts()"
   ]
  },
  {
   "cell_type": "code",
   "execution_count": null,
   "id": "4f7ddac4",
   "metadata": {},
   "outputs": [],
   "source": [
    "housing_raw.loc[housing_raw[\"region_name\"].str.contains(\"Francisco\"), \"region_name\"].value_counts()"
   ]
  },
  {
   "cell_type": "code",
   "execution_count": null,
   "id": "dabc150c",
   "metadata": {},
   "outputs": [],
   "source": [
    "housing = housing_raw.loc[(housing_raw[\"region_name\"].str.contains(\"CA\"))\n",
    "                          & (housing_raw[\"duration\"] == \"4 weeks\")\n",
    "                          & (housing_raw[\"region_type\"] == \"county\")  ]"
   ]
  },
  {
   "cell_type": "code",
   "execution_count": null,
   "id": "a0d3ebdf",
   "metadata": {},
   "outputs": [],
   "source": [
    "housing.head()"
   ]
  },
  {
   "cell_type": "code",
   "execution_count": null,
   "id": "0461a383",
   "metadata": {},
   "outputs": [],
   "source": [
    "housing[\"region_name\"] = housing[\"region_name\"].str[0:-11]\n",
    "\n",
    "housing.head()"
   ]
  },
  {
   "cell_type": "code",
   "execution_count": null,
   "id": "498ccdaa",
   "metadata": {},
   "outputs": [],
   "source": [
    "top10 = (housing\n",
    " .groupby(\"region_name\")\n",
    " .agg({\"median_active_list_price\": \"mean\"})\n",
    " .sort_values(\"median_active_list_price\", ascending=False)\n",
    " .round()\n",
    " .iloc[:10]\n",
    ")"
   ]
  },
  {
   "cell_type": "code",
   "execution_count": null,
   "id": "5fdb61e0",
   "metadata": {},
   "outputs": [],
   "source": [
    "top10"
   ]
  },
  {
   "cell_type": "code",
   "execution_count": null,
   "id": "b5e766ce",
   "metadata": {},
   "outputs": [],
   "source": [
    "fig, ax = plt.subplots(figsize=(10, 10))\n",
    "\n",
    "ax.bar(top10.index, top10[\"median_active_list_price\"])\n",
    "\n",
    "plt.show()"
   ]
  },
  {
   "cell_type": "code",
   "execution_count": null,
   "id": "7d85cf6d",
   "metadata": {},
   "outputs": [],
   "source": [
    "fig, ax = plt.subplots(figsize=(10, 10))\n",
    "\n",
    "plt.rcParams[\"font.size\"] = 14\n",
    "\n",
    "ax.ticklabel_format(style='plain')\n",
    "\n",
    "ax.bar(top10.index, top10[\"median_active_list_price\"])\n",
    "\n",
    "ax.set_title(\"Top 10 California Counties by Home Price\")\n",
    "\n",
    "ax.set_ylabel(\"Price\", fontsize=14)\n",
    "ax.set_xlabel(\"County\", fontsize=14)\n",
    "\n",
    "plt.xticks(rotation=35, wrap=False, fontsize=12)\n",
    "\n",
    "plt.show()"
   ]
  },
  {
   "cell_type": "code",
   "execution_count": null,
   "id": "19ee5e83",
   "metadata": {},
   "outputs": [],
   "source": [
    "housing_pivot = housing.pivot_table(index=\"period_begin\",\n",
    "                                    columns=\"region_name\",\n",
    "                                    values=\"median_active_list_price\")\n",
    "\n",
    "housing_pivot"
   ]
  },
  {
   "cell_type": "code",
   "execution_count": null,
   "id": "345aa5da",
   "metadata": {},
   "outputs": [],
   "source": [
    "sf_pre_covid_mean = housing.loc[(housing[\"period_begin\"].dt.year < 2020)\n",
    "                                & (housing[\"region_name\"].str.contains(\"Francisco\")), \"median_active_list_price\"].mean()\n",
    "\n",
    "sf_pre_covid_mean"
   ]
  },
  {
   "cell_type": "code",
   "execution_count": null,
   "id": "5004a599",
   "metadata": {},
   "outputs": [],
   "source": [
    "fig, ax = plt.subplots()\n",
    "\n",
    "fig.suptitle(\"Impact of Covid Differs Across California Cities\", fontsize=16)\n",
    "\n",
    "ax.ticklabel_format(style='plain')\n",
    "\n",
    "ax.plot(housing_pivot.index, housing_pivot[\"Los Angeles County, CA\"], label=\"LA Median Price\")\n",
    "ax.plot(housing_pivot.index, housing_pivot[\"San Diego County, CA\"], label=\"SD Median Price\")\n",
    "ax.plot(housing_pivot.index, housing_pivot[\"San Francisco County, CA\"], label=\"SF Median Price\")\n",
    "\n",
    "plt.axvline(18341, c=\"r\", ls=\"--\")\n",
    "ax.annotate(\"Start of Covid\",\n",
    "            xy=(.5, .5),\n",
    "            xytext=(.1, .1)\n",
    "           )\n",
    "\n",
    "ax.annotate(\"Start of Covid\",\n",
    "            xy=(18300, 1400000),\n",
    "            xytext=(17600, 1200000),\n",
    "            arrowprops=dict(facecolor=\"black\", \n",
    "                            width=1, \n",
    "                            headwidth=8,\n",
    "                            connectionstyle=\"angle3, angleA=270, angleB=0\"),\n",
    "            verticalalignment=\"center\"\n",
    "           )\n",
    "\n",
    "\n",
    "plt.legend(bbox_to_anchor=(1, 1))\n",
    "\n",
    ";"
   ]
  },
  {
   "cell_type": "code",
   "execution_count": null,
   "id": "ef387cd8",
   "metadata": {},
   "outputs": [],
   "source": [
    "pd.to_datetime(\"2020-03-31\") - pd.to_datetime(\"1970-01-01\")"
   ]
  },
  {
   "cell_type": "code",
   "execution_count": null,
   "id": "8cfc4d0d",
   "metadata": {},
   "outputs": [],
   "source": [
    "reduced = (housing\n",
    " .query(\"region_name in ['Los Angeles County, CA', 'San Francisco County, CA']\")\n",
    " .sort_values(\"period_begin\")\n",
    " .loc[(housing[\"period_begin\"].dt.year == 2017) & (housing[\"period_begin\"].dt.month < 4)]\n",
    ")"
   ]
  },
  {
   "cell_type": "code",
   "execution_count": null,
   "id": "3979eb50",
   "metadata": {},
   "outputs": [],
   "source": [
    "mean_prices = reduced.groupby(\"region_name\").agg({\"median_active_list_price\":\"mean\"})"
   ]
  },
  {
   "cell_type": "code",
   "execution_count": null,
   "id": "de140b89",
   "metadata": {},
   "outputs": [],
   "source": [
    "mean_prices"
   ]
  },
  {
   "cell_type": "code",
   "execution_count": null,
   "id": "df61514b",
   "metadata": {},
   "outputs": [],
   "source": [
    "fig, ax = plt.subplots()\n",
    "\n",
    "ax.ticklabel_format(style='plain')\n",
    "\n",
    "ax.bar(mean_prices.index, mean_prices[\"median_active_list_price\"], label=\"Mean Prices 2017\")\n",
    "fig.legend(loc=\"upper right\")"
   ]
  },
  {
   "cell_type": "code",
   "execution_count": null,
   "id": "cdc8f2b8",
   "metadata": {},
   "outputs": [],
   "source": [
    "april_22 = housing_raw.loc[(housing_raw[\"period_begin\"] == '2022-03-28') & (housing_raw[\"duration\"] == '4 weeks')]"
   ]
  },
  {
   "cell_type": "code",
   "execution_count": null,
   "id": "6b9558db",
   "metadata": {},
   "outputs": [],
   "source": [
    "fig, ax = plt.subplots()\n",
    "\n",
    "ax.hist(april_22[\"median_active_list_price\"], \n",
    "        bins=20,\n",
    "        density=True\n",
    "       )"
   ]
  },
  {
   "cell_type": "code",
   "execution_count": null,
   "id": "470a137f",
   "metadata": {},
   "outputs": [],
   "source": [
    "april_22.head(30)"
   ]
  },
  {
   "cell_type": "code",
   "execution_count": null,
   "id": "7462f54c",
   "metadata": {},
   "outputs": [],
   "source": [
    "housing_raw.head()"
   ]
  },
  {
   "cell_type": "code",
   "execution_count": null,
   "id": "ef93fa0a",
   "metadata": {},
   "outputs": [],
   "source": [
    "pd.read_csv(\"housing_prices.tsv000\", \n",
    "                      sep=\"\\t\", \n",
    "                      parse_dates=[\"period_begin\", \"period_end\"],\n",
    "                      dtype=({\"total_homes_sold\": \"Int32\"}),\n",
    "                      \n",
    ").assign(state = np.where(lambda x: x[\"region_type\"] == \"county\", \n",
    "                          x[\"region_name\"].str[-2:], \n",
    "                          x[\"region_name\"].str[-14:-12]))"
   ]
  },
  {
   "cell_type": "code",
   "execution_count": null,
   "id": "af16bd63",
   "metadata": {},
   "outputs": [],
   "source": [
    "housing_raw = housing_raw.assign(\n",
    "    state=np.where(\n",
    "        housing_raw[\"region_type\"] == \"county\", \n",
    "        housing_raw[\"region_name\"].str[-2:], \n",
    "        housing_raw[\"region_name\"].str[-13:-11]\n",
    "    ))"
   ]
  },
  {
   "cell_type": "code",
   "execution_count": null,
   "id": "5b6a7462",
   "metadata": {
    "scrolled": true
   },
   "outputs": [],
   "source": [
    "housing_raw[\"state\"].value_counts(normalize=True).plot.bar(figsize=(8, 8))"
   ]
  },
  {
   "cell_type": "code",
   "execution_count": null,
   "id": "79ec4d94",
   "metadata": {},
   "outputs": [],
   "source": [
    "housing_raw.loc[housing_raw[\"region_name\"] == \"Salt Lake County, UT\"].sum()"
   ]
  },
  {
   "cell_type": "code",
   "execution_count": null,
   "id": "8aa01d28",
   "metadata": {},
   "outputs": [],
   "source": [
    "state_mean = (housing_raw\n",
    " .loc[(housing_raw[\"period_begin\"] == '2022-03-28') & (housing_raw[\"duration\"] == '4 weeks'), \n",
    "      [\"state\",\"median_active_list_price\"]\n",
    "     ]\n",
    " .groupby(\"state\").agg({\"median_active_list_price\": \"mean\"}))"
   ]
  },
  {
   "cell_type": "code",
   "execution_count": null,
   "id": "1a2e28ad",
   "metadata": {},
   "outputs": [],
   "source": [
    "fig, ax = plt.subplots()\n",
    "\n",
    "mass = state_mean.loc[\"MA\"]\n",
    "hi = state_mean.loc[\"HI\"]\n",
    "\n",
    "ax.annotate(\"Massachusetts\",\n",
    "            xy=(1, mass),\n",
    "            xytext=(.6, mass-2),\n",
    "            arrowprops=dict(arrowstyle=\"->\",\n",
    "                        connectionstyle=\"arc3, rad=.15\")\n",
    "           )\n",
    "\n",
    "ax.annotate(\"Hawaii\",\n",
    "            xy=(1, hi),\n",
    "            xytext=(.6, hi-1.2),\n",
    "            arrowprops=dict(arrowstyle=\"->\",\n",
    "                        connectionstyle=\"arc3, rad=.15\")\n",
    "           )\n",
    "ax.boxplot(state_mean)"
   ]
  },
  {
   "cell_type": "code",
   "execution_count": null,
   "id": "65e38526",
   "metadata": {},
   "outputs": [],
   "source": [
    "state_mean.sort_values(\"median_active_list_price\", ascending=False)"
   ]
  },
  {
   "cell_type": "code",
   "execution_count": null,
   "id": "eb41e1ad",
   "metadata": {},
   "outputs": [],
   "source": [
    "county_mean = (housing_raw.loc[(housing_raw[\"period_begin\"] == '2022-03-28') \n",
    "               & (housing_raw[\"duration\"] == '4 weeks')\n",
    "               & (housing_raw[\"region_type\"] == \"county\"), \n",
    "              [\"region_name\",\"median_active_list_price\"]]\n",
    "             .groupby(\"region_name\").agg({\"median_active_list_price\": \"mean\"}))"
   ]
  },
  {
   "cell_type": "code",
   "execution_count": null,
   "id": "637acdfc",
   "metadata": {},
   "outputs": [],
   "source": [
    "county_mean.sort_values(\"median_active_list_price\", ascending=False)"
   ]
  },
  {
   "cell_type": "code",
   "execution_count": null,
   "id": "0e78de6f",
   "metadata": {},
   "outputs": [],
   "source": [
    "county_mean.plot.box()"
   ]
  },
  {
   "cell_type": "code",
   "execution_count": null,
   "id": "11dcbedd",
   "metadata": {},
   "outputs": [],
   "source": [
    "county_mean.loc[\"Salt Lake County, UT\"]"
   ]
  },
  {
   "cell_type": "code",
   "execution_count": null,
   "id": "e8232f79",
   "metadata": {},
   "outputs": [],
   "source": [
    "fig, ax = plt.subplots()\n",
    "\n",
    "mass = state_mean.loc[\"MA\"]\n",
    "hi = state_mean.loc[\"HI\"]\n",
    "\n",
    "ax.annotate(\"Massachusetts\",\n",
    "            xy=(1, mass),\n",
    "            xytext=(.6, mass-2),\n",
    "            arrowprops=dict(arrowstyle=\"->\",\n",
    "                        connectionstyle=\"arc3, rad=.15\")\n",
    "           )\n",
    "\n",
    "ax.annotate(\"Hawaii\",\n",
    "            xy=(1, hi),\n",
    "            xytext=(.6, hi-1.2),\n",
    "            arrowprops=dict(arrowstyle=\"->\",\n",
    "                        connectionstyle=\"arc3, rad=.15\")\n",
    "           )\n",
    "ax.boxplot(state_mean)"
   ]
  },
  {
   "cell_type": "code",
   "execution_count": null,
   "id": "8bd8492f",
   "metadata": {},
   "outputs": [],
   "source": [
    "state_mean.sort_values(\"median_active_list_price\", ascending=False, inplace=True)"
   ]
  },
  {
   "cell_type": "code",
   "execution_count": null,
   "id": "5f48cb17",
   "metadata": {},
   "outputs": [],
   "source": [
    "fig, ax = plt.subplots(figsize=(12, 12))\n",
    "\n",
    "mass = state_mean.loc[\"MA\"]\n",
    "hi = state_mean.loc[\"HI\"]\n",
    "\n",
    "ax.annotate(\"Massachusetts\",\n",
    "            xy=(1, mass),\n",
    "            xytext=(3, mass-2),\n",
    "            arrowprops=dict(arrowstyle=\"->\",\n",
    "                        connectionstyle=\"arc3, rad=.15\")\n",
    "           )\n",
    "\n",
    "ax.annotate(\"Hawaii\",\n",
    "            xy=(1, hi),\n",
    "            xytext=(3, hi-1.2),\n",
    "            arrowprops=dict(arrowstyle=\"->\",\n",
    "                        connectionstyle=\"arc3, rad=.15\")\n",
    "           )\n",
    "\n",
    "ax.bar(x=state_mean.index, \n",
    "       height=state_mean[\"median_active_list_price\"],\n",
    "       color = ([\"red\" if state in [\"MA\", \"HI\"] else \"grey\" for state in state_mean.index])\n",
    "      )\n",
    "\n",
    "# color only above x or y\n",
    "# fix annots\n"
   ]
  },
  {
   "cell_type": "code",
   "execution_count": null,
   "id": "e61df7d9",
   "metadata": {},
   "outputs": [],
   "source": [
    "data = [x * -1 if x % 2 == 0 else x for x in range(10)]"
   ]
  },
  {
   "cell_type": "code",
   "execution_count": null,
   "id": "98e8f7a7",
   "metadata": {},
   "outputs": [],
   "source": [
    "data2 = [x * -1 if x % 2 != 0 else x for x in range(10)]"
   ]
  },
  {
   "cell_type": "code",
   "execution_count": null,
   "id": "2ecb0ccf",
   "metadata": {},
   "outputs": [],
   "source": [
    "plt.barh(y=range(10),width=data)\n",
    "plt.barh(y=range(10),width=data2)\n"
   ]
  },
  {
   "cell_type": "code",
   "execution_count": null,
   "id": "422a87d4",
   "metadata": {},
   "outputs": [],
   "source": [
    "plt.plot(data)"
   ]
  },
  {
   "cell_type": "code",
   "execution_count": null,
   "id": "ec5c6612",
   "metadata": {},
   "outputs": [],
   "source": [
    "sns.pairplot()"
   ]
  }
 ],
 "metadata": {
  "kernelspec": {
   "display_name": "Python 3 (ipykernel)",
   "language": "python",
   "name": "python3"
  },
  "language_info": {
   "codemirror_mode": {
    "name": "ipython",
    "version": 3
   },
   "file_extension": ".py",
   "mimetype": "text/x-python",
   "name": "python",
   "nbconvert_exporter": "python",
   "pygments_lexer": "ipython3",
   "version": "3.9.7"
  }
 },
 "nbformat": 4,
 "nbformat_minor": 5
}
